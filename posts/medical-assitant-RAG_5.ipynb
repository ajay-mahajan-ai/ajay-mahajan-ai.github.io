{
 "cells": [
  {
   "cell_type": "markdown",
   "metadata": {},
   "source": [
    "---\n",
    "title: \"Medical Assitant\"\n",
    "date: 2025-08-05\n",
    "---"
   ]
  },
  {
   "cell_type": "markdown",
   "metadata": {
    "id": "3CNz35ia6Bz3"
   },
   "source": [
    "## Problem Statement"
   ]
  },
  {
   "cell_type": "markdown",
   "metadata": {
    "id": "CkRbhMJH6Bz3"
   },
   "source": [
    "### Business Context"
   ]
  },
  {
   "cell_type": "markdown",
   "metadata": {
    "id": "3PBm5xaj6Bz3"
   },
   "source": [
    "The healthcare industry is rapidly evolving, with professionals facing increasing challenges in managing vast volumes of medical data while delivering accurate and timely diagnoses. The need for quick access to comprehensive, reliable, and up-to-date medical knowledge is critical for improving patient outcomes and ensuring informed decision-making in a fast-paced environment.\n",
    "\n",
    "Healthcare professionals often encounter information overload, struggling to sift through extensive research and data to create accurate diagnoses and treatment plans. This challenge is amplified by the need for efficiency, particularly in emergencies, where time-sensitive decisions are vital. Furthermore, access to trusted, current medical information from renowned manuals and research papers is essential for maintaining high standards of care.\n",
    "\n",
    "To address these challenges, healthcare centers can focus on integrating systems that streamline access to medical knowledge, provide tools to support quick decision-making, and enhance efficiency. Leveraging centralized knowledge platforms and ensuring healthcare providers have continuous access to reliable resources can significantly improve patient care and operational effectiveness."
   ]
  },
  {
   "cell_type": "markdown",
   "metadata": {
    "id": "1xDPsqvO6Bz5"
   },
   "source": [
    "**Common Questions to Answer**\n",
    "\n",
    "**1. Diagnostic Assistance**: \"What are the common symptoms and treatments for pulmonary embolism?\"\n",
    "\n",
    "**2. Drug Information**: \"Can you provide the trade names of medications used for treating hypertension?\"\n",
    "\n",
    "**3. Treatment Plans**: \"What are the first-line options and alternatives for managing rheumatoid arthritis?\"\n",
    "\n",
    "**4. Specialty Knowledge**: \"What are the diagnostic steps for suspected endocrine disorders?\"\n",
    "\n",
    "**5. Critical Care Protocols**: \"What is the protocol for managing sepsis in a critical care unit?\""
   ]
  },
  {
   "cell_type": "markdown",
   "metadata": {
    "id": "CARPKFwm6Bz4"
   },
   "source": [
    "### Objective"
   ]
  },
  {
   "cell_type": "markdown",
   "metadata": {
    "id": "dOElOEXq6Bz4"
   },
   "source": [
    "As an AI specialist, your task is to develop a RAG-based AI solution using renowned medical manuals to address healthcare challenges. The objective is to **understand** issues like information overload, **apply** AI techniques to streamline decision-making, **analyze** its impact on diagnostics and patient outcomes, **evaluate** its potential to standardize care practices, and **create** a functional prototype demonstrating its feasibility and effectiveness."
   ]
  },
  {
   "cell_type": "markdown",
   "metadata": {
    "id": "by9EvAnkSpZf"
   },
   "source": [
    "### Data Description"
   ]
  },
  {
   "cell_type": "markdown",
   "metadata": {
    "id": "Jw5LievCSru2"
   },
   "source": [
    "The **Merck Manuals** are medical references published by the American pharmaceutical company Merck & Co., that cover a wide range of medical topics, including disorders, tests, diagnoses, and drugs. The manuals have been published since 1899, when Merck & Co. was still a subsidiary of the German company Merck.\n",
    "\n",
    "The manual is provided as a PDF with over 4,000 pages divided into 23 sections."
   ]
  },
  {
   "cell_type": "markdown",
   "metadata": {
    "id": "lnwETBOE6Bz5"
   },
   "source": [
    "## Installing and Importing Necessary Libraries and Dependencies"
   ]
  },
  {
   "cell_type": "code",
   "execution_count": 311,
   "metadata": {
    "colab": {
     "base_uri": "https://localhost:8080/"
    },
    "id": "q4GgLhZhUM4V",
    "outputId": "90a636cf-ea88-494a-98a6-da2ebf1ff9e9"
   },
   "outputs": [
    {
     "name": "stdout",
     "output_type": "stream",
     "text": [
      "Looking in indexes: https://pypi.org/simple, https://abetlen.github.io/llama-cpp-python/whl/cu124\n",
      "Requirement already satisfied: llama-cpp-python==0.2.77 in /usr/local/lib/python3.11/dist-packages (0.2.77)\n",
      "Requirement already satisfied: typing-extensions>=4.5.0 in /usr/local/lib/python3.11/dist-packages (from llama-cpp-python==0.2.77) (4.13.2)\n",
      "Requirement already satisfied: numpy>=1.20.0 in /usr/local/lib/python3.11/dist-packages (from llama-cpp-python==0.2.77) (2.0.2)\n",
      "Requirement already satisfied: diskcache>=5.6.1 in /usr/local/lib/python3.11/dist-packages (from llama-cpp-python==0.2.77) (5.6.3)\n",
      "Requirement already satisfied: jinja2>=2.11.3 in /usr/local/lib/python3.11/dist-packages (from llama-cpp-python==0.2.77) (3.1.6)\n",
      "Requirement already satisfied: MarkupSafe>=2.0 in /usr/local/lib/python3.11/dist-packages (from jinja2>=2.11.3->llama-cpp-python==0.2.77) (3.0.2)\n"
     ]
    }
   ],
   "source": [
    "!CMAKE_ARGS=\"-DLLAMA_CUBLAS=on\" pip install --no-cache-dir llama-cpp-python==0.2.77 --extra-index-url https://abetlen.github.io/llama-cpp-python/whl/cu124"
   ]
  },
  {
   "cell_type": "code",
   "execution_count": 312,
   "metadata": {
    "id": "0VOckDVkWGei"
   },
   "outputs": [],
   "source": [
    "!pip install huggingface_hub pandas tiktoken pymupdf langchain langchain-community chromadb sentence-transformers \"numpy<3\" -q"
   ]
  },
  {
   "cell_type": "code",
   "execution_count": 313,
   "metadata": {
    "id": "RTY9GN4oWK3g"
   },
   "outputs": [],
   "source": [
    "#Libraries for processing dataframes,text\n",
    "import json,os\n",
    "import tiktoken\n",
    "import pandas as pd\n",
    "\n",
    "#Libraries for Loading Data, Chunking, Embedding, and Vector Databases\n",
    "from langchain.text_splitter import RecursiveCharacterTextSplitter\n",
    "from langchain_community.document_loaders import PyMuPDFLoader\n",
    "from langchain_community.embeddings.sentence_transformer import SentenceTransformerEmbeddings\n",
    "from langchain_community.vectorstores import Chroma\n",
    "\n",
    "#Libraries for downloading and loading the llm\n",
    "from huggingface_hub import hf_hub_download\n",
    "from llama_cpp import Llama"
   ]
  },
  {
   "cell_type": "markdown",
   "metadata": {
    "id": "TtZWqj0wFTS1"
   },
   "source": [
    "## Question Answering using LLM"
   ]
  },
  {
   "cell_type": "markdown",
   "metadata": {
    "id": "Uq1lhM4WFTS2"
   },
   "source": [
    "#### Downloading and Loading the model"
   ]
  },
  {
   "cell_type": "code",
   "execution_count": 314,
   "metadata": {
    "id": "dA3XQMWmQLJp"
   },
   "outputs": [],
   "source": [
    "## Model configuration\n",
    "model_name_or_path = \"TheBloke/Llama-2-13B-chat-GGUF\"\n",
    "model_basename = \"llama-2-13b-chat.Q5_K_M.gguf\"\n",
    "model_path = hf_hub_download(\n",
    "    repo_id=model_name_or_path,\n",
    "    filename=model_basename\n",
    "    )"
   ]
  },
  {
   "cell_type": "code",
   "execution_count": 315,
   "metadata": {
    "colab": {
     "base_uri": "https://localhost:8080/"
    },
    "id": "VB5kCiUOvD8i",
    "outputId": "5ef5cfdf-789f-46d1-a8b6-f99403be53b4"
   },
   "outputs": [
    {
     "name": "stderr",
     "output_type": "stream",
     "text": [
      "llama_model_loader: loaded meta data with 19 key-value pairs and 363 tensors from /root/.cache/huggingface/hub/models--TheBloke--Llama-2-13B-chat-GGUF/snapshots/4458acc949de0a9914c3eab623904d4fe999050a/llama-2-13b-chat.Q5_K_M.gguf (version GGUF V2)\n",
      "llama_model_loader: Dumping metadata keys/values. Note: KV overrides do not apply in this output.\n",
      "llama_model_loader: - kv   0:                       general.architecture str              = llama\n",
      "llama_model_loader: - kv   1:                               general.name str              = LLaMA v2\n",
      "llama_model_loader: - kv   2:                       llama.context_length u32              = 4096\n",
      "llama_model_loader: - kv   3:                     llama.embedding_length u32              = 5120\n",
      "llama_model_loader: - kv   4:                          llama.block_count u32              = 40\n",
      "llama_model_loader: - kv   5:                  llama.feed_forward_length u32              = 13824\n",
      "llama_model_loader: - kv   6:                 llama.rope.dimension_count u32              = 128\n",
      "llama_model_loader: - kv   7:                 llama.attention.head_count u32              = 40\n",
      "llama_model_loader: - kv   8:              llama.attention.head_count_kv u32              = 40\n",
      "llama_model_loader: - kv   9:     llama.attention.layer_norm_rms_epsilon f32              = 0.000010\n",
      "llama_model_loader: - kv  10:                          general.file_type u32              = 17\n",
      "llama_model_loader: - kv  11:                       tokenizer.ggml.model str              = llama\n",
      "llama_model_loader: - kv  12:                      tokenizer.ggml.tokens arr[str,32000]   = [\"<unk>\", \"<s>\", \"</s>\", \"<0x00>\", \"<...\n",
      "llama_model_loader: - kv  13:                      tokenizer.ggml.scores arr[f32,32000]   = [0.000000, 0.000000, 0.000000, 0.0000...\n",
      "llama_model_loader: - kv  14:                  tokenizer.ggml.token_type arr[i32,32000]   = [2, 3, 3, 6, 6, 6, 6, 6, 6, 6, 6, 6, ...\n",
      "llama_model_loader: - kv  15:                tokenizer.ggml.bos_token_id u32              = 1\n",
      "llama_model_loader: - kv  16:                tokenizer.ggml.eos_token_id u32              = 2\n",
      "llama_model_loader: - kv  17:            tokenizer.ggml.unknown_token_id u32              = 0\n",
      "llama_model_loader: - kv  18:               general.quantization_version u32              = 2\n",
      "llama_model_loader: - type  f32:   81 tensors\n",
      "llama_model_loader: - type q5_K:  241 tensors\n",
      "llama_model_loader: - type q6_K:   41 tensors\n",
      "llm_load_vocab: special tokens cache size = 259\n",
      "llm_load_vocab: token to piece cache size = 0.1684 MB\n",
      "llm_load_print_meta: format           = GGUF V2\n",
      "llm_load_print_meta: arch             = llama\n",
      "llm_load_print_meta: vocab type       = SPM\n",
      "llm_load_print_meta: n_vocab          = 32000\n",
      "llm_load_print_meta: n_merges         = 0\n",
      "llm_load_print_meta: n_ctx_train      = 4096\n",
      "llm_load_print_meta: n_embd           = 5120\n",
      "llm_load_print_meta: n_head           = 40\n",
      "llm_load_print_meta: n_head_kv        = 40\n",
      "llm_load_print_meta: n_layer          = 40\n",
      "llm_load_print_meta: n_rot            = 128\n",
      "llm_load_print_meta: n_embd_head_k    = 128\n",
      "llm_load_print_meta: n_embd_head_v    = 128\n",
      "llm_load_print_meta: n_gqa            = 1\n",
      "llm_load_print_meta: n_embd_k_gqa     = 5120\n",
      "llm_load_print_meta: n_embd_v_gqa     = 5120\n",
      "llm_load_print_meta: f_norm_eps       = 0.0e+00\n",
      "llm_load_print_meta: f_norm_rms_eps   = 1.0e-05\n",
      "llm_load_print_meta: f_clamp_kqv      = 0.0e+00\n",
      "llm_load_print_meta: f_max_alibi_bias = 0.0e+00\n",
      "llm_load_print_meta: f_logit_scale    = 0.0e+00\n",
      "llm_load_print_meta: n_ff             = 13824\n",
      "llm_load_print_meta: n_expert         = 0\n",
      "llm_load_print_meta: n_expert_used    = 0\n",
      "llm_load_print_meta: causal attn      = 1\n",
      "llm_load_print_meta: pooling type     = 0\n",
      "llm_load_print_meta: rope type        = 0\n",
      "llm_load_print_meta: rope scaling     = linear\n",
      "llm_load_print_meta: freq_base_train  = 10000.0\n",
      "llm_load_print_meta: freq_scale_train = 1\n",
      "llm_load_print_meta: n_yarn_orig_ctx  = 4096\n",
      "llm_load_print_meta: rope_finetuned   = unknown\n",
      "llm_load_print_meta: ssm_d_conv       = 0\n",
      "llm_load_print_meta: ssm_d_inner      = 0\n",
      "llm_load_print_meta: ssm_d_state      = 0\n",
      "llm_load_print_meta: ssm_dt_rank      = 0\n",
      "llm_load_print_meta: model type       = 13B\n",
      "llm_load_print_meta: model ftype      = Q5_K - Medium\n",
      "llm_load_print_meta: model params     = 13.02 B\n",
      "llm_load_print_meta: model size       = 8.60 GiB (5.67 BPW) \n",
      "llm_load_print_meta: general.name     = LLaMA v2\n",
      "llm_load_print_meta: BOS token        = 1 '<s>'\n",
      "llm_load_print_meta: EOS token        = 2 '</s>'\n",
      "llm_load_print_meta: UNK token        = 0 '<unk>'\n",
      "llm_load_print_meta: LF token         = 13 '<0x0A>'\n",
      "llm_load_tensors: ggml ctx size =    0.37 MiB\n",
      "llm_load_tensors: offloading 38 repeating layers to GPU\n",
      "llm_load_tensors: offloaded 38/41 layers to GPU\n",
      "llm_load_tensors:        CPU buffer size =  8801.63 MiB\n",
      "llm_load_tensors:      CUDA0 buffer size =  8125.43 MiB\n",
      "....................................................................................................\n",
      "llama_new_context_with_model: n_ctx      = 4096\n",
      "llama_new_context_with_model: n_batch    = 512\n",
      "llama_new_context_with_model: n_ubatch   = 512\n",
      "llama_new_context_with_model: flash_attn = 0\n",
      "llama_new_context_with_model: freq_base  = 10000.0\n",
      "llama_new_context_with_model: freq_scale = 1\n",
      "llama_kv_cache_init:  CUDA_Host KV buffer size =   160.00 MiB\n",
      "llama_kv_cache_init:      CUDA0 KV buffer size =  3040.00 MiB\n",
      "llama_new_context_with_model: KV self size  = 3200.00 MiB, K (f16): 1600.00 MiB, V (f16): 1600.00 MiB\n",
      "llama_new_context_with_model:  CUDA_Host  output buffer size =     0.12 MiB\n",
      "llama_new_context_with_model:      CUDA0 compute buffer size =   447.19 MiB\n",
      "llama_new_context_with_model:  CUDA_Host compute buffer size =    28.01 MiB\n",
      "llama_new_context_with_model: graph nodes  = 1286\n",
      "llama_new_context_with_model: graph splits = 26\n",
      "AVX = 1 | AVX_VNNI = 0 | AVX2 = 1 | AVX512 = 0 | AVX512_VBMI = 0 | AVX512_VNNI = 0 | AVX512_BF16 = 0 | FMA = 1 | NEON = 0 | SVE = 0 | ARM_FMA = 0 | F16C = 1 | FP16_VA = 0 | WASM_SIMD = 0 | BLAS = 1 | SSE3 = 1 | SSSE3 = 1 | VSX = 0 | MATMUL_INT8 = 0 | LLAMAFILE = 1 | \n",
      "Model metadata: {'tokenizer.ggml.unknown_token_id': '0', 'tokenizer.ggml.eos_token_id': '2', 'general.architecture': 'llama', 'llama.context_length': '4096', 'general.name': 'LLaMA v2', 'llama.embedding_length': '5120', 'llama.feed_forward_length': '13824', 'llama.attention.layer_norm_rms_epsilon': '0.000010', 'llama.rope.dimension_count': '128', 'llama.attention.head_count': '40', 'tokenizer.ggml.bos_token_id': '1', 'llama.block_count': '40', 'llama.attention.head_count_kv': '40', 'general.quantization_version': '2', 'tokenizer.ggml.model': 'llama', 'general.file_type': '17'}\n",
      "Using fallback chat format: llama-2\n"
     ]
    }
   ],
   "source": [
    "#uncomment the below snippet of code if the runtime is connected to GPU.\n",
    "llm = Llama(\n",
    "    model_path=model_path,\n",
    "    n_ctx=4096,\n",
    "    n_gpu_layers=38,\n",
    "    n_batch=512\n",
    ")\n"
   ]
  },
  {
   "cell_type": "markdown",
   "metadata": {
    "id": "EzzkvIXvFTS4"
   },
   "source": [
    "#### Response"
   ]
  },
  {
   "cell_type": "code",
   "execution_count": 316,
   "metadata": {
    "id": "hG_IaZj0QLw4"
   },
   "outputs": [],
   "source": [
    "def response(query, max_tokens=512, temperature=0, top_p=1.0, top_k=0):\n",
    "\n",
    "    model_output = llm(\n",
    "        prompt=query,\n",
    "        max_tokens=max_tokens,\n",
    "        temperature=temperature,\n",
    "        top_p=top_p,\n",
    "        top_k=top_k\n",
    "    )\n",
    "\n",
    "    return model_output['choices'][0]['text']"
   ]
  },
  {
   "cell_type": "markdown",
   "metadata": {
    "id": "K8YgK91SFjVY"
   },
   "source": [
    "### Query 1: What is the protocol for managing sepsis in a critical care unit?"
   ]
  },
  {
   "cell_type": "code",
   "execution_count": 317,
   "metadata": {
    "colab": {
     "base_uri": "https://localhost:8080/",
     "height": 261
    },
    "id": "-JLIVmpPQH0f",
    "outputId": "b62a2bd5-0de1-41a4-8299-ed85e26a6dc7"
   },
   "outputs": [
    {
     "name": "stderr",
     "output_type": "stream",
     "text": [
      "\n",
      "llama_print_timings:        load time =    1761.86 ms\n",
      "llama_print_timings:      sample time =     329.67 ms /   512 runs   (    0.64 ms per token,  1553.08 tokens per second)\n",
      "llama_print_timings: prompt eval time =    1761.76 ms /    17 tokens (  103.63 ms per token,     9.65 tokens per second)\n",
      "llama_print_timings:        eval time =   17446.56 ms /   511 runs   (   34.14 ms per token,    29.29 tokens per second)\n",
      "llama_print_timings:       total time =   20087.38 ms /   528 tokens\n"
     ]
    },
    {
     "data": {
      "application/vnd.google.colaboratory.intrinsic+json": {
       "type": "string"
      },
      "text/plain": [
       "\"\\nSepsis is a life-threatening condition that can arise from an infection, and it is a leading cause of death in hospitals. The management of sepsis in a critical care unit (CCU) requires a systematic approach that includes early recognition, prompt treatment, and ongoing monitoring. Here is a general protocol for managing sepsis in a CCU:\\n\\n1. Early recognition:\\n\\t* Use a standardized screening tool, such as the Sepsis-3 definition, to identify patients who are at risk of developing sepsis.\\n\\t* Monitor patients for signs and symptoms of sepsis, such as fever, tachycardia, tachypnea, and altered mental status.\\n2. Initial assessment:\\n\\t* Perform a thorough physical examination to identify any signs of infection or organ dysfunction.\\n\\t* Order blood cultures and other diagnostic tests (such as complete blood count, electrolytes, and renal function tests) to confirm the diagnosis of sepsis.\\n3. Resuscitation:\\n\\t* Administer broad-spectrum antibiotics within the first hour of recognition of sepsis, and continue until the patient is stable or the source of infection has been identified and treated.\\n\\t* Provide fluid resuscitation with crystalloids or colloids as needed to maintain mean arterial pressure (MAP) ≥ 65 mmHg.\\n\\t* Consider vasopressor therapy if MAP < 65 mmHg despite fluid resuscitation.\\n4. Source control:\\n\\t* Identify and treat the source of infection, such as a urinary tract infection, pneumonia, or bloodstream infection.\\n\\t* Consider surgical intervention if the source of infection is a abscess or infected tissue.\\n5. Supportive care:\\n\\t* Provide mechanical ventilation if the patient requires respiratory support.\\n\\t* Manage hypotension with vasopressor therapy and fluid resuscitation as needed.\\n\\t* Monitor and manage electrolyte imbalances, such as hyperkalemia or hypocalcemia.\\n6. Monitoring:\\n\\t* Continuously monitor the patient's vital signs, including temperature, blood pressure, tachycardia\""
      ]
     },
     "execution_count": 317,
     "metadata": {},
     "output_type": "execute_result"
    }
   ],
   "source": [
    "user_prompt = \"What is the protocol for managing sepsis in a critical care unit?\"\n",
    "response(user_prompt)"
   ]
  },
  {
   "cell_type": "markdown",
   "metadata": {
    "id": "J6yxICeVFjVc"
   },
   "source": [
    "### Query 2: What are the common symptoms for appendicitis, and can it be cured via medicine? If not, what surgical procedure should be followed to treat it?"
   ]
  },
  {
   "cell_type": "code",
   "execution_count": 318,
   "metadata": {
    "colab": {
     "base_uri": "https://localhost:8080/",
     "height": 278
    },
    "id": "BdiHRgEqQIP9",
    "outputId": "6b7d0840-d502-4fd3-f1eb-7d9d9d69552c"
   },
   "outputs": [
    {
     "name": "stderr",
     "output_type": "stream",
     "text": [
      "Llama.generate: prefix-match hit\n",
      "\n",
      "llama_print_timings:        load time =    1761.86 ms\n",
      "llama_print_timings:      sample time =     314.81 ms /   490 runs   (    0.64 ms per token,  1556.51 tokens per second)\n",
      "llama_print_timings: prompt eval time =     238.00 ms /    33 tokens (    7.21 ms per token,   138.66 tokens per second)\n",
      "llama_print_timings:        eval time =   16052.19 ms /   489 runs   (   32.83 ms per token,    30.46 tokens per second)\n",
      "llama_print_timings:       total time =   17097.09 ms /   522 tokens\n"
     ]
    },
    {
     "data": {
      "application/vnd.google.colaboratory.intrinsic+json": {
       "type": "string"
      },
      "text/plain": [
       "'\\n\\nAnswer:\\n\\nAppendicitis is a medical emergency that requires prompt treatment. The most common symptoms of appendicitis include:\\n\\n1. Severe pain in the abdomen, usually starting near the belly button and then moving to the lower right side of the abdomen.\\n2. Nausea and vomiting.\\n3. Loss of appetite.\\n4. Fever.\\n5. Abdominal tenderness and guarding (muscle tension).\\n6. Abdominal swelling.\\n7. Diarrhea or constipation.\\n\\nIf you suspect that you or someone else may have appendicitis, it is essential to seek medical attention immediately. Appendicitis can be cured via surgery, but not with medicine. In fact, delaying treatment can lead to serious complications, such as the appendix rupturing and spreading infection throughout the abdominal cavity.\\n\\nThe surgical procedure used to treat appendicitis is called an appendectomy. There are two types of appendectomies: open and laparoscopic.\\n\\n1. Open Appendectomy: This is the traditional method, where a single incision is made in the lower right abdomen to remove the inflamed appendix. The wound is then closed with sutures or staples.\\n2. Laparoscopic Appendectomy: This is a less invasive procedure, where several small incisions are made in the abdomen, and a laparoscope (a thin tube with a camera and light) is inserted to visualize the appendix. The inflamed appendix is then removed through one of the small incisions.\\n\\nBoth procedures are usually performed under general anesthesia, and the patient can expect to stay in the hospital for a few days after surgery. In some cases, the surgeon may decide to perform an open appendectomy if the appendix has already ruptured or if there are other complications present.\\n\\nIt is important to note that while antibiotics may be given to treat any underlying infection, they cannot cure appendicitis. Only surgical removal of the inflamed appendix can effectively treat the condition.'"
      ]
     },
     "execution_count": 318,
     "metadata": {},
     "output_type": "execute_result"
    }
   ],
   "source": [
    "user_prompt = \"What are the common symptoms for appendicitis, and can it be cured via medicine? If not, what surgical procedure should be followed to treat it?\"\n",
    "response(user_prompt)"
   ]
  },
  {
   "cell_type": "markdown",
   "metadata": {
    "id": "oflaoOGiFjVd"
   },
   "source": [
    "### Query 3: What are the effective treatments or solutions for addressing sudden patchy hair loss, commonly seen as localized bald spots on the scalp, and what could be the possible causes behind it?"
   ]
  },
  {
   "cell_type": "code",
   "execution_count": 319,
   "metadata": {
    "colab": {
     "base_uri": "https://localhost:8080/",
     "height": 278
    },
    "id": "N-mx9yboQIt-",
    "outputId": "6edbc6ee-76a7-4252-e211-64c3910043dd"
   },
   "outputs": [
    {
     "name": "stderr",
     "output_type": "stream",
     "text": [
      "Llama.generate: prefix-match hit\n",
      "\n",
      "llama_print_timings:        load time =    1761.86 ms\n",
      "llama_print_timings:      sample time =     322.16 ms /   512 runs   (    0.63 ms per token,  1589.28 tokens per second)\n",
      "llama_print_timings: prompt eval time =     247.18 ms /    37 tokens (    6.68 ms per token,   149.69 tokens per second)\n",
      "llama_print_timings:        eval time =   16779.47 ms /   511 runs   (   32.84 ms per token,    30.45 tokens per second)\n",
      "llama_print_timings:       total time =   17860.28 ms /   548 tokens\n"
     ]
    },
    {
     "data": {
      "application/vnd.google.colaboratory.intrinsic+json": {
       "type": "string"
      },
      "text/plain": [
       "\"\\nSudden patchy hair loss, also known as alopecia areata, can be caused by a variety of factors. Here are some effective treatments and solutions for addressing this condition:\\n\\n1. Corticosteroid injections: These injections can help suppress the immune system and promote hair growth. They are usually given every 4-6 weeks and can be effective in promoting hair regrowth.\\n2. Topical corticosteroids: Over-the-counter or prescription topical corticosteroids can be applied directly to the affected area to reduce inflammation and promote hair growth.\\n3. Minoxidil (Rogaine): This is a solution that is applied to the scalp to stimulate hair growth. It is available over-the-counter and can be effective in promoting hair regrowth.\\n4. Anthralin: This is a medication that is applied to the skin to reduce inflammation and promote hair growth. It is often used in combination with corticosteroids.\\n5. Phototherapy: Exposure to specific wavelengths of light, such as ultraviolet B (UVB) or narrowband UVB, can help reduce inflammation and promote hair growth.\\n6. Immunotherapy: This involves using medications to suppress the immune system and promote hair growth. One common treatment is diphencyprone (DPCP), which causes a mild allergic reaction that leads to hair growth.\\n7. Platelet-rich plasma (PRP) therapy: This involves injecting platelet-rich plasma (PRP) into the affected area to stimulate hair growth. PRP is derived from the patient's own blood and contains growth factors that promote hair growth.\\n8. Low-level laser therapy (LLLT): This involves using a low-level laser or light-emitting device to stimulate hair growth. It is thought that the light energy increases blood flow to the scalp, which promotes hair growth.\\n9. Dietary changes: Making changes to your diet can help promote hair growth. Eating foods rich in vitamins and minerals, such as biotin, vitamin D, and iron, can help support hair growth.\\n10. Reducing stress: Stress can contribute to hair loss, so\""
      ]
     },
     "execution_count": 319,
     "metadata": {},
     "output_type": "execute_result"
    }
   ],
   "source": [
    "user_prompt = \"What are the effective treatments or solutions for addressing sudden patchy hair loss, commonly seen as localized bald spots on the scalp, and what could be the possible causes behind it?\"\n",
    "response(user_prompt)"
   ]
  },
  {
   "cell_type": "markdown",
   "metadata": {
    "id": "WUUqY4FbFjVe"
   },
   "source": [
    "### Query 4:  What treatments are recommended for a person who has sustained a physical injury to brain tissue, resulting in temporary or permanent impairment of brain function?"
   ]
  },
  {
   "cell_type": "code",
   "execution_count": 320,
   "metadata": {
    "colab": {
     "base_uri": "https://localhost:8080/",
     "height": 278
    },
    "id": "TEsVMaKaQJzh",
    "outputId": "c59839da-374a-4e87-8c95-360381ebb848"
   },
   "outputs": [
    {
     "name": "stderr",
     "output_type": "stream",
     "text": [
      "Llama.generate: prefix-match hit\n",
      "\n",
      "llama_print_timings:        load time =    1761.86 ms\n",
      "llama_print_timings:      sample time =     315.46 ms /   512 runs   (    0.62 ms per token,  1623.05 tokens per second)\n",
      "llama_print_timings: prompt eval time =     370.89 ms /    31 tokens (   11.96 ms per token,    83.58 tokens per second)\n",
      "llama_print_timings:        eval time =   16520.01 ms /   511 runs   (   32.33 ms per token,    30.93 tokens per second)\n",
      "llama_print_timings:       total time =   17724.66 ms /   542 tokens\n"
     ]
    },
    {
     "data": {
      "application/vnd.google.colaboratory.intrinsic+json": {
       "type": "string"
      },
      "text/plain": [
       "\"\\nThere are several treatments that may be recommended for a person who has sustained a physical injury to brain tissue, resulting in temporary or permanent impairment of brain function. The specific treatment plan will depend on the location and severity of the injury, as well as the individual's overall health and medical history. Some common treatments for brain injuries include:\\n\\n1. Medications: To manage symptoms such as pain, inflammation, and anxiety.\\n2. Rehabilitation therapy: To help regain lost function and improve cognitive, physical, and emotional abilities. This may include physical therapy, occupational therapy, speech therapy, and cognitive therapy.\\n3. Surgery: To repair damaged brain tissue or relieve pressure on the brain.\\n4. Neurostimulation therapies: Such as transcranial magnetic stimulation (TMS) or transcranial direct current stimulation (tDCS), which can help improve cognitive function and reduce symptoms of depression.\\n5. Cognitive rehabilitation: To help the individual learn new strategies and techniques to compensate for any lost cognitive abilities.\\n6. Behavioral interventions: Such as cognitive-behavioral therapy (CBT) or behavioral activation, which can help improve mood and reduce symptoms of depression and anxiety.\\n7. Lifestyle changes: Such as regular exercise, a healthy diet, and stress management techniques, which can help improve overall health and well-being.\\n8. Assistive technology: Such as wheelchairs, walkers, or communication devices, which can help the individual with daily activities and communication.\\n9. Home modifications: Such as installing handrails or widening doorways, which can help the individual navigate their environment more safely and easily.\\n10. Support groups: Which can provide a sense of community and support for the individual and their family members.\\n\\nIt's important to note that the most effective treatment plan for a brain injury will be highly individualized and may involve a combination of these treatments. It's also important to work with a healthcare team, including a neurologist, rehabilitation therapists, and other specialists, to develop a comprehensive treatment plan that addresses the individual's specific needs and goals.\""
      ]
     },
     "execution_count": 320,
     "metadata": {},
     "output_type": "execute_result"
    }
   ],
   "source": [
    "user_prompt = \"What treatments are recommended for a person who has sustained a physical injury to brain tissue, resulting in temporary or permanent impairment of brain function?\"\n",
    "response(user_prompt)"
   ]
  },
  {
   "cell_type": "markdown",
   "metadata": {
    "id": "5laPFTHrFjVf"
   },
   "source": [
    "### Query 5: What are the necessary precautions and treatment steps for a person who has fractured their leg during a hiking trip, and what should be considered for their care and recovery?"
   ]
  },
  {
   "cell_type": "code",
   "execution_count": 321,
   "metadata": {
    "colab": {
     "base_uri": "https://localhost:8080/",
     "height": 278
    },
    "id": "VfrlmrP5QKJz",
    "outputId": "418c2c56-6a61-46b0-b8e7-4c36019f4c25"
   },
   "outputs": [
    {
     "name": "stderr",
     "output_type": "stream",
     "text": [
      "Llama.generate: prefix-match hit\n",
      "\n",
      "llama_print_timings:        load time =    1761.86 ms\n",
      "llama_print_timings:      sample time =     317.25 ms /   512 runs   (    0.62 ms per token,  1613.87 tokens per second)\n",
      "llama_print_timings: prompt eval time =     224.85 ms /    37 tokens (    6.08 ms per token,   164.55 tokens per second)\n",
      "llama_print_timings:        eval time =   16845.06 ms /   511 runs   (   32.96 ms per token,    30.34 tokens per second)\n",
      "llama_print_timings:       total time =   17914.58 ms /   548 tokens\n"
     ]
    },
    {
     "data": {
      "application/vnd.google.colaboratory.intrinsic+json": {
       "type": "string"
      },
      "text/plain": [
       "'\\n\\nA person who has fractured their leg during a hiking trip requires prompt medical attention to ensure proper healing and prevent complications. Here are some necessary precautions and treatment steps:\\n\\n1. Stop all activity: The first step is to stop all activity and rest the affected leg immediately. This will help prevent further damage and reduce the risk of complications.\\n2. Assess the severity of the injury: Evaluate the extent of the fracture and determine if there are any other injuries that require attention.\\n3. Immobilize the leg: Use a splint or brace to immobilize the affected leg and prevent further movement. This will help reduce pain and promote healing.\\n4. Apply ice: Apply ice packs to the affected area to reduce swelling and pain. Wrap the ice in a towel or cloth to avoid direct contact with the skin.\\n5. Elevate the leg: Elevate the affected leg above the level of the heart to reduce swelling and promote blood flow.\\n6. Monitor for signs of complications: Monitor the patient for signs of complications such as numbness, tingling, or coldness in the affected limb, which could indicate nerve damage or poor circulation.\\n7. Seek medical attention: If the fracture is severe or if there are any signs of complications, seek immediate medical attention. A medical professional will be able to assess the extent of the injury and provide appropriate treatment.\\n8. Provide pain management: Administer pain medication as prescribed by a medical professional to manage pain and discomfort.\\n9. Monitor for infection: Monitor the patient for signs of infection such as redness, swelling, or increased pain. If an infection is suspected, seek medical attention immediately.\\n10. Follow-up care: Schedule follow-up appointments with a medical professional to monitor the healing process and ensure that the fracture is properly aligned and immobilized.\\n\\nDuring the recovery process, it is important to consider the following:\\n\\n1. Rest and avoid strenuous activities: Avoid any strenuous activities or heavy lifting during the recovery period to allow the fracture to heal properly.\\n2. Follow a rehabilitation program: A medical professional will be able to provide a rehabilitation'"
      ]
     },
     "execution_count": 321,
     "metadata": {},
     "output_type": "execute_result"
    }
   ],
   "source": [
    "user_prompt = \"What are the necessary precautions and treatment steps for a person who has fractured their leg during a hiking trip, and what should be considered for their care and recovery?\"\n",
    "response(user_prompt)"
   ]
  },
  {
   "cell_type": "markdown",
   "metadata": {
    "id": "g5myZ5dOOefc"
   },
   "source": [
    "## Question Answering using LLM with Prompt Engineering"
   ]
  },
  {
   "cell_type": "code",
   "execution_count": 322,
   "metadata": {
    "id": "BQYbPj4B5ns1"
   },
   "outputs": [],
   "source": [
    "from IPython.display import Markdown, display\n",
    "\n",
    "system_prompt = \"\"\"\n",
    "You are a highly knowledgeable clinical assistant trained in evidence-based medicine. Your job is to answer clinical questions clearly, accurately, and in a structured format suitable for healthcare professionals or informed patients.\n",
    "\n",
    "Follow these rules:\n",
    "- Use **bold section titles**\n",
    "- Break answers into logical sections: causes, symptoms, diagnosis, treatment, recovery, etc.\n",
    "- Use numbered or bulleted lists where appropriate\n",
    "- Use concise medical language—short, clear sentences\n",
    "- Do not speculate. If something is unknown or controversial, say so.\n",
    "\n",
    "If the question involves treatment, list both **medical** and **surgical** options if relevant.\n",
    "If the condition has subtypes or multiple causes, include them.\n",
    "If the treatment requires further testing or depends on context, mention that.\n",
    "\n",
    "Answer the following question:\n",
    "\"\"\"\n",
    "\n",
    "\n",
    "def response_prompt(query, max_tokens=1024, temperature=0, top_p=1.0, top_k=0):\n",
    "    prompt = system_prompt + f\"### Question:\\n{query}\\n\\n### Answer:\\n\"\n",
    "\n",
    "    model_output = llm(\n",
    "        prompt=prompt,\n",
    "        max_tokens=max_tokens,\n",
    "        temperature=temperature,\n",
    "        top_p=top_p,\n",
    "        top_k=top_k\n",
    "    )\n",
    "\n",
    "    return model_output['choices'][0]['text']\n",
    "\n",
    "def display_markdown_output(raw_text):\n",
    "    cleaned_text = raw_text.encode().decode('unicode_escape').strip()\n",
    "    display(Markdown(cleaned_text))"
   ]
  },
  {
   "cell_type": "markdown",
   "metadata": {
    "id": "9Jg3r_LWOeff"
   },
   "source": [
    "### Query 1: What is the protocol for managing sepsis in a critical care unit?"
   ]
  },
  {
   "cell_type": "code",
   "execution_count": 323,
   "metadata": {
    "colab": {
     "base_uri": "https://localhost:8080/",
     "height": 875
    },
    "id": "YqM4VMw5ROhX",
    "outputId": "8d2197c0-3cc0-477e-edb9-46b26206a276"
   },
   "outputs": [
    {
     "name": "stderr",
     "output_type": "stream",
     "text": [
      "Llama.generate: prefix-match hit\n",
      "\n",
      "llama_print_timings:        load time =    1761.86 ms\n",
      "llama_print_timings:      sample time =     555.17 ms /   875 runs   (    0.63 ms per token,  1576.10 tokens per second)\n",
      "llama_print_timings: prompt eval time =     373.61 ms /   214 tokens (    1.75 ms per token,   572.79 tokens per second)\n",
      "llama_print_timings:        eval time =   28947.03 ms /   874 runs   (   33.12 ms per token,    30.19 tokens per second)\n",
      "llama_print_timings:       total time =   31076.19 ms /  1088 tokens\n"
     ]
    },
    {
     "data": {
      "text/markdown": [
       "**Sepsis Definition and Protocol Overview**\n",
       "\n",
       "Sepsis is a life-threatening organ dysfunction caused by a systemic inflammatory response to an infection. The protocol for managing sepsis in a critical care unit involves early recognition, prompt administration of antibiotics and supportive care, and careful monitoring of vital signs and organ function.\n",
       "\n",
       "**Causes and Risk Factors**\n",
       "\n",
       "Sepsis can be caused by any type of infection, but common culprits include pneumonia, urinary tract infections, and bloodstream infections. Risk factors for developing sepsis include age over 65, weakened immune system, recent surgery or invasive medical procedure, and underlying chronic conditions such as diabetes, heart disease, or kidney disease.\n",
       "\n",
       "**Symptoms**\n",
       "\n",
       "Early signs of sepsis can be subtle and may progress rapidly. Key symptoms to watch for include fever, tachycardia, tachypnea, confusion, and decreased urine output. As sepsis worsens, patients may develop septic shock, organ failure, and disseminated intravascular coagulation (DIC).\n",
       "\n",
       "**Diagnosis**\n",
       "\n",
       "Sepsis is diagnosed based on clinical presentation, laboratory values, and imaging studies. The Sepsis-3 definition requires the presence of systemic inflammatory response syndrome (SIRS) criteria and organ dysfunction. SIRS criteria include body temperature >38Â°C or <36Â°C, heart rate >90 beats per minute, respiratory rate >20 breaths per minute, or white blood cell count >12,000 cells/mm3 or <4,000 cells/mm3.\n",
       "\n",
       "**Treatment and Recovery**\n",
       "\n",
       "Early recognition and administration of antibiotics are critical for effective sepsis management. Broad-spectrum antibiotics should be administered within the first hour of diagnosis, ideally via central venous catheter. Supportive care includes mechanical ventilation, vasopressors, and fluid resuscitation as needed.\n",
       "\n",
       "**Treatment Options**\n",
       "\n",
       "Medical options for sepsis management include:\n",
       "\n",
       "1. Antibiotics: Broad-spectrum antibiotics effective against common causes of sepsis, such as Pseudomonas aeruginosa and methicillin-resistant Staphylococcus aureus (MRSA).\n",
       "2. Vasopressors: To maintain mean arterial pressure â¥65 mmHg and prevent hypotension.\n",
       "3. Mechanical ventilation: As needed to support respiratory function.\n",
       "4. Fluid resuscitation: With isotonic fluids to maintain urine output and prevent hypovolemia.\n",
       "\n",
       "Surgical options for sepsis management include:\n",
       "\n",
       "1. Source control: Surgical debridement or removal of the infected focus, such as a abscess or infected tissue.\n",
       "2. Vascular access: Placement of central venous catheters or arterial lines for fluid resuscitation and monitoring.\n",
       "3. Thoracotomy: For severe respiratory failure refractory to medical management.\n",
       "\n",
       "**Recovery and Follow-Up**\n",
       "\n",
       "Sepsis recovery is a complex process that requires careful monitoring of vital signs, laboratory values, and organ function. Patients may require prolonged hospitalization and rehabilitation to regain lost strength and function. Follow-up care should include regular check-ups with a primary care physician and specialists as needed.\n",
       "\n",
       "In conclusion, the protocol for managing sepsis in a critical care unit involves early recognition, prompt administration of antibiotics and supportive care, and careful monitoring of vital signs and organ function. Prompt treatment and close monitoring can significantly improve outcomes for patients with sepsis."
      ],
      "text/plain": [
       "<IPython.core.display.Markdown object>"
      ]
     },
     "metadata": {},
     "output_type": "display_data"
    }
   ],
   "source": [
    "user_prompt = \"What is the protocol for managing sepsis in a critical care unit?\"\n",
    "raw_response = response_prompt(user_prompt)\n",
    "display_markdown_output(raw_response)"
   ]
  },
  {
   "cell_type": "markdown",
   "metadata": {
    "id": "iYpyw4HjOeff"
   },
   "source": [
    "### Query 2: What are the common symptoms for appendicitis, and can it be cured via medicine? If not, what surgical procedure should be followed to treat it?"
   ]
  },
  {
   "cell_type": "code",
   "execution_count": 324,
   "metadata": {
    "colab": {
     "base_uri": "https://localhost:8080/",
     "height": 707
    },
    "id": "GXl09pFfRPBr",
    "outputId": "185f25ea-1736-40b9-cefb-2ae8479f98f9"
   },
   "outputs": [
    {
     "name": "stderr",
     "output_type": "stream",
     "text": [
      "Llama.generate: prefix-match hit\n",
      "\n",
      "llama_print_timings:        load time =    1761.86 ms\n",
      "llama_print_timings:      sample time =     324.51 ms /   513 runs   (    0.63 ms per token,  1580.83 tokens per second)\n",
      "llama_print_timings: prompt eval time =     220.42 ms /    40 tokens (    5.51 ms per token,   181.47 tokens per second)\n",
      "llama_print_timings:        eval time =   16963.93 ms /   512 runs   (   33.13 ms per token,    30.18 tokens per second)\n",
      "llama_print_timings:       total time =   18026.34 ms /   552 tokens\n"
     ]
    },
    {
     "data": {
      "text/markdown": [
       "**Symptoms of Appendicitis:**\n",
       "\n",
       "* Sudden onset of severe pain in the lower right abdomen (often migrating to the lower back)\n",
       "* Nausea and vomiting\n",
       "* Loss of appetite\n",
       "* Fever (usually >38Â°C/100.4Â°F)\n",
       "* Abdominal tenderness and guarding (muscle tension)\n",
       "* Rigidity in the abdomen\n",
       "* Palpable mass in the right lower quadrant of the abdomen\n",
       "\n",
       "**Diagnosis:**\n",
       "\n",
       "* Physical examination findings\n",
       "* Laboratory tests (e.g., complete blood count, inflammatory markers)\n",
       "* Imaging studies (e.g., X-ray, CT scan) to confirm the diagnosis and assess the severity of the condition\n",
       "\n",
       "**Treatment:**\n",
       "\n",
       "**Medications:**\n",
       "\n",
       "* Pain management with nonsteroidal anti-inflammatory drugs (NSAIDs) or opioids\n",
       "* Antibiotics to prevent or treat secondary infections\n",
       "\n",
       "**Surgical Procedure:**\n",
       "\n",
       "The standard surgical procedure for appendicitis is an appendectomy, which involves the removal of the inflamed appendix. The two main types of appendectomies are:\n",
       "\n",
       "1. Open Appendectomy: A traditional open surgery where a single incision is made in the lower right abdomen to access and remove the inflamed appendix.\n",
       "2. Laparoscopic Appendectomy: A minimally invasive procedure using a laparoscope (thin tube with a camera) and specialized instruments to remove the inflamed appendix through small incisions.\n",
       "\n",
       "**Recovery:**\n",
       "\n",
       "After an appendectomy, patients typically spend 1-2 days in the hospital for observation and pain management. Full recovery from surgery takes about 2-4 weeks, during which time patients should avoid heavy lifting, bending, or strenuous activities.\n",
       "\n",
       "It is important to note that appendicitis can be a medical emergency, and prompt treatment is essential to prevent complications such as perforation of the appendix, peritonitis, or sepsis. If you suspect appendicitis, seek immediate medical attention."
      ],
      "text/plain": [
       "<IPython.core.display.Markdown object>"
      ]
     },
     "metadata": {},
     "output_type": "display_data"
    }
   ],
   "source": [
    "user_prompt = \"What are the common symptoms for appendicitis, and can it be cured via medicine? If not, what surgical procedure should be followed to treat it?\"\n",
    "raw_response = response_prompt(user_prompt)\n",
    "display_markdown_output(raw_response)"
   ]
  },
  {
   "cell_type": "markdown",
   "metadata": {
    "id": "dRp92JQZOeff"
   },
   "source": [
    "### Query 3: What are the effective treatments or solutions for addressing sudden patchy hair loss, commonly seen as localized bald spots on the scalp, and what could be the possible causes behind it?"
   ]
  },
  {
   "cell_type": "code",
   "execution_count": 325,
   "metadata": {
    "colab": {
     "base_uri": "https://localhost:8080/",
     "height": 759
    },
    "id": "JOgATEpMRPve",
    "outputId": "7e73883d-3b2c-4a1e-b9ac-e08cc864fe4a"
   },
   "outputs": [
    {
     "name": "stderr",
     "output_type": "stream",
     "text": [
      "Llama.generate: prefix-match hit\n",
      "\n",
      "llama_print_timings:        load time =    1761.86 ms\n",
      "llama_print_timings:      sample time =     396.35 ms /   626 runs   (    0.63 ms per token,  1579.42 tokens per second)\n",
      "llama_print_timings: prompt eval time =     227.27 ms /    44 tokens (    5.17 ms per token,   193.61 tokens per second)\n",
      "llama_print_timings:        eval time =   20628.62 ms /   625 runs   (   33.01 ms per token,    30.30 tokens per second)\n",
      "llama_print_timings:       total time =   21945.24 ms /   669 tokens\n"
     ]
    },
    {
     "data": {
      "text/markdown": [
       "**Causes:**\n",
       "\n",
       "1. **Alopecia Areata**: An autoimmune condition that causes sudden hair loss in patches.\n",
       "2. **Telogen Effluvium**: A stress-induced condition leading to excessive hair shedding, often resulting in localized bald spots.\n",
       "3. **Fungal Infections**: Malassezia or ringworm can cause hair loss in specific areas, especially if left untreated.\n",
       "4. **Traction Alopecia**: Hair loss due to constant pulling or tension on the hair follicles, often seen in individuals with tight hairstyles.\n",
       "5. **Inflammation**: Conditions like eczema, psoriasis, or seborrheic dermatitis can cause inflammation leading to localized hair loss.\n",
       "\n",
       "**Symptoms:**\n",
       "\n",
       "1. Patchy hair loss in specific areas of the scalp.\n",
       "2. Hair thinning or balding in a distinct pattern.\n",
       "3. Redness, itching, or scaling on the affected area.\n",
       "4. Inflammation or crusting around the hair follicles.\n",
       "\n",
       "**Diagnosis:**\n",
       "\n",
       "1. Physical examination and medical history.\n",
       "2. Blood tests to rule out underlying conditions like thyroid disorders or autoimmune diseases.\n",
       "3. Skin scrapings or biopsies for fungal infections or inflammatory conditions.\n",
       "4. Imaging studies (e.g., scalp biopsy) to confirm the diagnosis and assess the extent of hair loss.\n",
       "\n",
       "**Treatment:**\n",
       "\n",
       "1. **Topical Therapies**: Minoxidil (Rogaine) or corticosteroids can help stimulate hair growth and reduce inflammation.\n",
       "2. **Oral Medications**: Anti-inflammatory drugs like prednisone or immunosuppressive medications like cyclosporine may be prescribed for severe cases.\n",
       "3. **Surgical Options**: Hair transplantation or scalp reduction can be considered for extensive hair loss.\n",
       "4. **Lifestyle Changes**: Reducing stress, using gentle hair care products, and avoiding tight hairstyles can help manage the condition.\n",
       "\n",
       "**Recovery:**\n",
       "\n",
       "1. Time required for recovery varies depending on the underlying cause and treatment approach.\n",
       "2. Regular follow-ups with a dermatologist are essential to monitor progress and adjust the treatment plan as needed.\n",
       "3. In some cases, hair growth may not fully recover, but treatment can help slow down or stop further hair loss.\n",
       "\n",
       "It is important to note that sudden patchy hair loss can be distressing, and seeking professional medical advice is crucial for an accurate diagnosis and appropriate treatment."
      ],
      "text/plain": [
       "<IPython.core.display.Markdown object>"
      ]
     },
     "metadata": {},
     "output_type": "display_data"
    }
   ],
   "source": [
    "user_prompt = \"What are the effective treatments or solutions for addressing sudden patchy hair loss, commonly seen as localized bald spots on the scalp, and what could be the possible causes behind it?\"\n",
    "raw_response = response_prompt(user_prompt)\n",
    "display_markdown_output(raw_response)"
   ]
  },
  {
   "cell_type": "markdown",
   "metadata": {
    "id": "AA45zwyUOefg"
   },
   "source": [
    "### Query 4:  What treatments are recommended for a person who has sustained a physical injury to brain tissue, resulting in temporary or permanent impairment of brain function?"
   ]
  },
  {
   "cell_type": "code",
   "execution_count": 326,
   "metadata": {
    "colab": {
     "base_uri": "https://localhost:8080/",
     "height": 684
    },
    "id": "VA7G8FOnRQZY",
    "outputId": "e604059c-537a-4a1b-8b03-205103f18c52"
   },
   "outputs": [
    {
     "name": "stderr",
     "output_type": "stream",
     "text": [
      "Llama.generate: prefix-match hit\n",
      "\n",
      "llama_print_timings:        load time =    1761.86 ms\n",
      "llama_print_timings:      sample time =     295.10 ms /   468 runs   (    0.63 ms per token,  1585.90 tokens per second)\n",
      "llama_print_timings: prompt eval time =     441.21 ms /    38 tokens (   11.61 ms per token,    86.13 tokens per second)\n",
      "llama_print_timings:        eval time =   15356.26 ms /   467 runs   (   32.88 ms per token,    30.41 tokens per second)\n",
      "llama_print_timings:       total time =   16549.89 ms /   505 tokens\n"
     ]
    },
    {
     "data": {
      "text/markdown": [
       "**Depending on the severity and location of the injury, treatment options for brain tissue injuries may include:**\n",
       "\n",
       "1. **Medical therapy:**\n",
       "\t* Pain management with analgesics, sedatives, or anesthetics as needed\n",
       "\t* Anti-seizure medications if seizures occur\n",
       "\t* Intravenous fluids and electrolyte replacement as needed\n",
       "\t* Monitoring of vital signs and neurological status\n",
       "2. **Surgical intervention:**\n",
       "\t* Decompression surgery to relieve pressure on the brain caused by swelling or herniation\n",
       "\t* Craniotomy to repair skull fractures or relieve pressure on specific areas of the brain\n",
       "\t* Brain tumor resection if the injury is caused by a tumor\n",
       "3. **Rehabilitation:**\n",
       "\t* Physical therapy to improve motor function and mobility\n",
       "\t* Occupational therapy to regain cognitive and daily living skills\n",
       "\t* Speech therapy to address communication and language deficits\n",
       "4. **Supportive care:**\n",
       "\t* Monitoring for complications such as infections, seizures, or blood clots\n",
       "\t* Nutritional support to ensure adequate calorie and nutrient intake\n",
       "\t* Psychological support to address emotional and cognitive changes\n",
       "5. **Experimental treatments:**\n",
       "\t* Stem cell therapy to promote brain repair and regeneration\n",
       "\t* Hyperbaric oxygen therapy to improve blood flow and reduce inflammation\n",
       "\t* Electrical stimulation therapies such as transcranial magnetic stimulation (TMS) or transcranial direct current stimulation (tDCS) to enhance neural plasticity and recovery.\n",
       "\n",
       "**It is important to note that the most appropriate treatment plan will depend on the specific nature and severity of the injury, as well as the individual patient's needs and medical history. A multidisciplinary team of healthcare professionals should be involved in the decision-making process to ensure the best possible outcome for the patient.**"
      ],
      "text/plain": [
       "<IPython.core.display.Markdown object>"
      ]
     },
     "metadata": {},
     "output_type": "display_data"
    }
   ],
   "source": [
    "user_input = \"What treatments are recommended for a person who has sustained a physical injury to brain tissue, resulting in temporary or permanent impairment of brain function?\"\n",
    "raw_response = response_prompt(user_input)\n",
    "display_markdown_output(raw_response)"
   ]
  },
  {
   "cell_type": "markdown",
   "metadata": {
    "id": "TYXxiSuBOefg"
   },
   "source": [
    "### Query 5: What are the necessary precautions and treatment steps for a person who has fractured their leg during a hiking trip, and what should be considered for their care and recovery?"
   ]
  },
  {
   "cell_type": "code",
   "execution_count": 327,
   "metadata": {
    "colab": {
     "base_uri": "https://localhost:8080/",
     "height": 634
    },
    "id": "mE2GMQk8RQ_p",
    "outputId": "79f6209c-2e1a-4165-c5f6-ea5a6bdd2810"
   },
   "outputs": [
    {
     "name": "stderr",
     "output_type": "stream",
     "text": [
      "Llama.generate: prefix-match hit\n",
      "\n",
      "llama_print_timings:        load time =    1761.86 ms\n",
      "llama_print_timings:      sample time =     406.62 ms /   654 runs   (    0.62 ms per token,  1608.37 tokens per second)\n",
      "llama_print_timings: prompt eval time =     234.48 ms /    44 tokens (    5.33 ms per token,   187.65 tokens per second)\n",
      "llama_print_timings:        eval time =   21649.65 ms /   653 runs   (   33.15 ms per token,    30.16 tokens per second)\n",
      "llama_print_timings:       total time =   23043.53 ms /   697 tokens\n"
     ]
    },
    {
     "data": {
      "text/markdown": [
       "**Necessary Precautions:**\n",
       "\n",
       "1. **Immobilization**: Use a splint or cast to immobilize the affected limb to prevent further injury and promote healing.\n",
       "2. **Pain management**: Administer pain medication as needed, ensuring the patient is comfortable and able to rest.\n",
       "3. **Wound care**: Clean and dress any open wounds to prevent infection.\n",
       "4. **Hydration**: Encourage the patient to drink plenty of fluids to stay hydrated and support healing.\n",
       "5. **Monitoring**: Closely monitor the patient's vital signs, particularly their pulse, breathing rate, and blood pressure.\n",
       "6. **Transportation**: If necessary, carefully transport the patient to a medical facility for further evaluation and treatment.\n",
       "\n",
       "**Treatment Steps:**\n",
       "\n",
       "1. **Initial assessment**: Evaluate the severity of the fracture and determine if any other injuries are present.\n",
       "2. **Imaging studies**: Obtain X-rays or other imaging studies to confirm the diagnosis and assess the extent of the fracture.\n",
       "3. **Reducation**: If the fracture is displaced, perform reduction (realignment) of the bone to restore proper alignment.\n",
       "4. **Stabilization**: Use external fixation devices, such as a cast or brace, to stabilize the affected limb and promote healing.\n",
       "5. **Surgical intervention**: If necessary, perform surgery to realign and stabilize the bone.\n",
       "6. **Rehabilitation**: Once the patient is stable, begin rehabilitation exercises to regain strength, mobility, and range of motion in the affected limb.\n",
       "\n",
       "**Considerations for Care and Recovery:**\n",
       "\n",
       "1. **Infection prevention**: Take measures to prevent infection, such as ensuring proper wound care and hygiene.\n",
       "2. **Pain management**: Continue pain management as needed throughout the recovery process.\n",
       "3. **Rest and recovery**: Encourage the patient to rest and avoid strenuous activities until the fracture has fully healed.\n",
       "4. **Monitoring**: Regularly monitor the patient's progress, addressing any complications or concerns that arise.\n",
       "5. **Follow-up appointments**: Schedule follow-up appointments with a healthcare provider to assess the patient's progress and ensure proper healing.\n",
       "6. **Rehabilitation**: Encourage the patient to participate in rehabilitation exercises to regain strength, mobility, and range of motion in the affected limb.\n",
       "\n",
       "It is important to note that the specific treatment steps and considerations for care and recovery may vary depending on the severity and location of the fracture, as well as the individual patient's needs and medical history."
      ],
      "text/plain": [
       "<IPython.core.display.Markdown object>"
      ]
     },
     "metadata": {},
     "output_type": "display_data"
    }
   ],
   "source": [
    "user_input = \"What are the necessary precautions and treatment steps for a person who has fractured their leg during a hiking trip, and what should be considered for their care and recovery?\"\n",
    "raw_response = response_prompt(user_input)\n",
    "display_markdown_output(raw_response)"
   ]
  },
  {
   "cell_type": "markdown",
   "metadata": {
    "id": "t_O1PGdNO2M9"
   },
   "source": [
    "## Data Preparation for RAG"
   ]
  },
  {
   "cell_type": "markdown",
   "metadata": {
    "id": "uTpWESc53dL9"
   },
   "source": [
    "### Loading the Data"
   ]
  },
  {
   "cell_type": "code",
   "execution_count": 328,
   "metadata": {
    "colab": {
     "base_uri": "https://localhost:8080/"
    },
    "id": "ybj2cEnzRSXq",
    "outputId": "0a651f35-8af5-4579-a2e7-78dda6258737"
   },
   "outputs": [
    {
     "name": "stdout",
     "output_type": "stream",
     "text": [
      "Drive already mounted at /content/drive; to attempt to forcibly remount, call drive.mount(\"/content/drive\", force_remount=True).\n"
     ]
    }
   ],
   "source": [
    "from google.colab import drive\n",
    "drive.mount('/content/drive')"
   ]
  },
  {
   "cell_type": "code",
   "execution_count": 329,
   "metadata": {
    "id": "s5xehLehDlVN"
   },
   "outputs": [],
   "source": [
    "merk_manual = '/content/drive/MyDrive/medical_diagnosis_manual.pdf'"
   ]
  },
  {
   "cell_type": "code",
   "execution_count": 330,
   "metadata": {
    "id": "GN8D5CvVEzE5"
   },
   "outputs": [],
   "source": [
    "pdf_loader = PyMuPDFLoader(merk_manual)\n",
    "manual = pdf_loader.load()"
   ]
  },
  {
   "cell_type": "markdown",
   "metadata": {
    "id": "ffj0ca3eZT4u"
   },
   "source": [
    "### Data Overview"
   ]
  },
  {
   "cell_type": "markdown",
   "metadata": {
    "id": "f9weTDzMxRRS"
   },
   "source": [
    "#### Checking the first 5 pages"
   ]
  },
  {
   "cell_type": "code",
   "execution_count": 331,
   "metadata": {
    "colab": {
     "base_uri": "https://localhost:8080/"
    },
    "id": "MSEiL--bRTZT",
    "outputId": "b0714433-27e0-4bd1-f05c-31c0185e5d1f"
   },
   "outputs": [
    {
     "name": "stdout",
     "output_type": "stream",
     "text": [
      "Page Number : 1\n",
      "ajayvmahajan@gmail.com\n",
      "FZ98U1SOXE\n",
      "ant for personal use by ajayvmahajan@g\n",
      "shing the contents in part or full is liable\n",
      "Page Number : 2\n",
      "ajayvmahajan@gmail.com\n",
      "FZ98U1SOXE\n",
      "This file is meant for personal use by ajayvmahajan@gmail.com only.\n",
      "Sharing or publishing the contents in part or full is liable for legal action.\n",
      "Page Number : 3\n",
      "Table of Contents\n",
      "1\n",
      "Front    ................................................................................................................................................................................................................\n",
      "1\n",
      "Cover    .......................................................................................................................................................................................................\n",
      "2\n",
      "Front Matter    ...........................................................................................................................................................................................\n",
      "53\n",
      "1 - Nutritional Disorders    ...............................................................................................................................................................\n",
      "53\n",
      "Chapter 1. Nutrition: General Considerations    .....................................................................................................................\n",
      "59\n",
      "Chapter 2. Undernutrition    .............................................................................................................................................................\n",
      "69\n",
      "Chapter 3. Nutritional Support    ...................................................................................................................................................\n",
      "76\n",
      "Chapter 4. Vitamin Deficiency, Dependency & Toxicity    ..................................................................................................\n",
      "99\n",
      "Chapter 5. Mineral Deficiency & Toxicity    ..............................................................................................................................\n",
      "108\n",
      "Chapter 6. Obesity & the Metabolic Syndrome    ...............................................................................................................\n",
      "120\n",
      "2 - Gastrointestinal Disorders    ..............................................................................................................................................\n",
      "120\n",
      "Chapter 7. Approach to the Patient With Upper GI Complaints    ...............................................................................\n",
      "132\n",
      "Chapter 8. Approach to the Patient With Lower GI Complaints    ...............................................................................\n",
      "143\n",
      "Chapter 9. Diagnostic & Therapeutic GI Procedures    ....................................................................................................\n",
      "150\n",
      "Chapter 10. GI Bleeding    ............................................................................................................................................................\n",
      "158\n",
      "Chapter 11. Acute Abdomen & Surgical Gastroenterology    .........................................................................................\n",
      "172\n",
      "Chapter 12. Esophageal & Swallowing Disorders    ..........................................................................................................\n",
      "183\n",
      "Chapter 13. Gastritis & Peptic Ulcer Disease    ..................................................................................................................\n",
      "196\n",
      "Chapter 14. Bezoars & Foreign Bodies    ..............................................................................................................................\n",
      "199\n",
      "Chapter 15. Pancreatitis    ............................................................................................................................................................\n",
      "206\n",
      "Chapter 16. Gastroenteritis    ......................................................................................................................................................\n",
      "213\n",
      "Chapter 17. Malabsorption Syndromes    ..............................................................................................................................\n",
      "225\n",
      "Chapter 18. Irritable Bowel Syndrome    ................................................................................................................................\n",
      "229\n",
      "Chapter 19. Inflammatory Bowel Disease    .........................................................................................................................\n",
      "241\n",
      "Chapter 20. Diverticular Disease    ...........................................................................................................................................\n",
      "246\n",
      "Chapter 21. Anorectal Disorders    ............................................................................................................................................\n",
      "254\n",
      "Chapter 22. Tumors of the GI Tract    ......................................................................................................................................\n",
      "275\n",
      "3 - Hepatic & Biliary Disorders    ............................................................................................................................................\n",
      "275\n",
      "Chapter 23. Approach to the Patient With Liver Disease    ...........................................................................................\n",
      "294\n",
      "Chapter 24. Testing for Hepatic & Biliary Disorders    ......................................................................................................\n",
      "305\n",
      "Chapter 25. Drugs & the Liver    ................................................................................................................................................\n",
      "308\n",
      "Chapter 26. Alcoholic Liver Disease    ....................................................................................................................................\n",
      "314\n",
      "Chapter 27. Fibrosis & Cirrhosis    ............................................................................................................................................\n",
      "322\n",
      "Chapter 28. Hepatitis    ..................................................................................................................................................................\n",
      "333\n",
      "Chapter 29. Vascular Disorders of the Liver    .....................................................................................................................\n",
      "341\n",
      "Chapter 30. Liver Masses & Granulomas    ..........................................................................................................................\n",
      "348\n",
      "Chapter 31. Gallbladder & Bile Duct Disorders    ...............................................................................................................\n",
      "362\n",
      "4 - Musculoskeletal & Connective Tissue Disorders    .........................................................................................\n",
      "362\n",
      "Chapter 32. Approach to the Patient With Joint Disease    ............................................................................................\n",
      "373\n",
      "Chapter 33. Autoimmune Rheumatic Disorders    ..............................................................................................................\n",
      "391\n",
      "Chapter 34. Vasculitis    .................................................................................................................................................................\n",
      "416\n",
      "Chapter 35. Joint Disorders    .....................................................................................................................................................\n",
      "435\n",
      "Chapter 36. Crystal-Induced Arthritides    ..............................................................................................................................\n",
      "443\n",
      "Chapter 37. Osteoporosis    .........................................................................................................................................................\n",
      "448\n",
      "Chapter 38. Paget's Disease of Bone    ..................................................................................................................................\n",
      "451\n",
      "Chapter 39. Osteonecrosis    .......................................................................................................................................................\n",
      "455\n",
      "Chapter 40. Infections of Joints & Bones    ...........................................................................................................................\n",
      "463\n",
      "Chapter 41. Bursa, Muscle & Tendon Disorders    .............................................................................................................\n",
      "470\n",
      "Chapter 42. Neck & Back Pain    ...............................................................................................................................................\n",
      "481\n",
      "Chapter 43. Hand Disorders    ....................................................................................................................................................\n",
      "ajayvmahajan@gmail.com\n",
      "FZ98U1SOXE\n",
      "This file is meant for personal use by ajayvmahajan@gmail.com only.\n",
      "Sharing or publishing the contents in part or full is liable for legal action.\n",
      "Page Number : 4\n",
      "491\n",
      "Chapter 44. Foot & Ankle Disorders    .....................................................................................................................................\n",
      "502\n",
      "Chapter 45. Tumors of Bones & Joints    ...............................................................................................................................\n",
      "510\n",
      "5 - Ear, Nose, Throat & Dental Disorders    ..................................................................................................................\n",
      "510\n",
      "Chapter 46. Approach to the Patient With Ear Problems    ...........................................................................................\n",
      "523\n",
      "Chapter 47. Hearing Loss    .........................................................................................................................................................\n",
      "535\n",
      "Chapter 48. Inner Ear Disorders    ............................................................................................................................................\n",
      "542\n",
      "Chapter 49. Middle Ear & Tympanic Membrane Disorders    ........................................................................................\n",
      "550\n",
      "Chapter 50. External Ear Disorders    .....................................................................................................................................\n",
      "554\n",
      "Chapter 51. Approach to the Patient With Nasal & Pharyngeal Symptoms    .......................................................\n",
      "567\n",
      "Chapter 52. Oral & Pharyngeal Disorders    .........................................................................................................................\n",
      "578\n",
      "Chapter 53. Nose & Paranasal Sinus Disorders    .............................................................................................................\n",
      "584\n",
      "Chapter 54. Laryngeal Disorders    ...........................................................................................................................................\n",
      "590\n",
      "Chapter 55. Tumors of the Head & Neck    ...........................................................................................................................\n",
      "600\n",
      "Chapter 56. Approach to Dental & Oral Symptoms    .......................................................................................................\n",
      "619\n",
      "Chapter 57. Common Dental Disorders    .............................................................................................................................\n",
      "629\n",
      "Chapter 58. Dental Emergencies    ..........................................................................................................................................\n",
      "635\n",
      "Chapter 59. Temporomandibular Disorders    ......................................................................................................................\n",
      "641\n",
      "6 - Eye Disorders    ............................................................................................................................................................................\n",
      "641\n",
      "Chapter 60. Approach to the Ophthalmologic Patient    ..................................................................................................\n",
      "669\n",
      "Chapter 61. Refractive Error    ...................................................................................................................................................\n",
      "674\n",
      "Chapter 62. Eyelid & Lacrimal Disorders    ...........................................................................................................................\n",
      "680\n",
      "Chapter 63. Conjunctival & Scleral Disorders    .................................................................................................................\n",
      "690\n",
      "Chapter 64. Corneal Disorders    ...............................................................................................................................................\n",
      "703\n",
      "Chapter 65. Glaucoma    ...............................................................................................................................................................\n",
      "710\n",
      "Chapter 66. Cataract    ...................................................................................................................................................................\n",
      "713\n",
      "Chapter 67. Uveitis    ......................................................................................................................................................................\n",
      "719\n",
      "Chapter 68. Retinal Disorders    .................................................................................................................................................\n",
      "731\n",
      "Chapter 69. Optic Nerve Disorders    ......................................................................................................................................\n",
      "737\n",
      "Chapter 70. Orbital Diseases    ..................................................................................................................................................\n",
      "742\n",
      "7 - Dermatologic Disorders    ....................................................................................................................................................\n",
      "742\n",
      "Chapter 71. Approach to the Dermatologic Patient    .......................................................................................................\n",
      "755\n",
      "Chapter 72. Principles of Topical Dermatologic Therapy    ............................................................................................\n",
      "760\n",
      "Chapter 73. Acne & Related Disorders    ...............................................................................................................................\n",
      "766\n",
      "Chapter 74. Bullous Diseases    .................................................................................................................................................\n",
      "771\n",
      "Chapter 75. Cornification Disorders    .....................................................................................................................................\n",
      "775\n",
      "Chapter 76. Dermatitis    ...............................................................................................................................................................\n",
      "786\n",
      "Chapter 77. Reactions to Sunlight    ........................................................................................................................................\n",
      "791\n",
      "Chapter 78. Psoriasis & Scaling Diseases    ........................................................................................................................\n",
      "799\n",
      "Chapter 79. Hypersensitivity & Inflammatory Disorders    .............................................................................................\n",
      "808\n",
      "Chapter 80. Sweating Disorders    ............................................................................................................................................\n",
      "811\n",
      "Chapter 81. Bacterial Skin Infections    ...................................................................................................................................\n",
      "822\n",
      "Chapter 82. Fungal Skin Infections    ......................................................................................................................................\n",
      "831\n",
      "Chapter 83. Parasitic Skin Infections    ...................................................................................................................................\n",
      "836\n",
      "Chapter 84. Viral Skin Diseases    ............................................................................................................................................\n",
      "841\n",
      "Chapter 85. Pigmentation Disorders    ....................................................................................................................................\n",
      "846\n",
      "Chapter 86. Hair Disorders    .......................................................................................................................................................\n",
      "855\n",
      "Chapter 87. Nail Disorders    .......................................................................................................................................................\n",
      "861\n",
      "Chapter 88. Pressure Ulcers    ...................................................................................................................................................\n",
      "867\n",
      "Chapter 89. Benign Tumors    .....................................................................................................................................................\n",
      "874\n",
      "Chapter 90. Cancers of the Skin    ............................................................................................................................................\n",
      "882\n",
      "8 - Endocrine & Metabolic Disorders    .............................................................................................................................\n",
      "882\n",
      "Chapter 91. Principles of Endocrinology    ............................................................................................................................\n",
      "887\n",
      "Chapter 92. Pituitary Disorders    ..............................................................................................................................................\n",
      "901\n",
      "Chapter 93. Thyroid Disorders    ................................................................................................................................................\n",
      "ajayvmahajan@gmail.com\n",
      "FZ98U1SOXE\n",
      "This file is meant for personal use by ajayvmahajan@gmail.com only.\n",
      "Sharing or publishing the contents in part or full is liable for legal action.\n",
      "Page Number : 5\n",
      "921\n",
      "Chapter 94. Adrenal Disorders    ................................................................................................................................................\n",
      "936\n",
      "Chapter 95. Polyglandular Deficiency Syndromes    ........................................................................................................\n",
      "939\n",
      "Chapter 96. Porphyrias    ..............................................................................................................................................................\n",
      "949\n",
      "Chapter 97. Fluid & Electrolyte Metabolism    .....................................................................................................................\n",
      "987\n",
      "Chapter 98. Acid-Base Regulation & Disorders    ..............................................................................................................\n",
      "1001\n",
      "Chapter 99. Diabetes Mellitus & Disorders of Carbohydrate Metabolism    ........................................................\n",
      "1024\n",
      "Chapter 100. Lipid Disorders    ................................................................................................................................................\n",
      "1034\n",
      "Chapter 101. Amyloidosis    ......................................................................................................................................................\n",
      "1037\n",
      "Chapter 102. Carcinoid Tumors    ..........................................................................................................................................\n",
      "1040\n",
      "Chapter 103. Multiple Endocrine Neoplasia Syndromes    .........................................................................................\n",
      "1046\n",
      "9 - Hematology & Oncology    ...............................................................................................................................................\n",
      "1046\n",
      "Chapter 104. Approach to the Patient With Anemia    ..................................................................................................\n",
      "1050\n",
      "Chapter 105. Anemias Caused by Deficient Erythropoiesis    ...................................................................................\n",
      "1061\n",
      "Chapter 106. Anemias Caused by Hemolysis    ...............................................................................................................\n",
      "1078\n",
      "Chapter 107. Neutropenia & Lymphocytopenia    ...........................................................................................................\n",
      "1086\n",
      "Chapter 108. Thrombocytopenia & Platelet Dysfunction    .........................................................................................\n",
      "1097\n",
      "Chapter 109. Hemostasis    ......................................................................................................................................................\n",
      "1104\n",
      "Chapter 110. Thrombotic Disorders    ...................................................................................................................................\n",
      "1107\n",
      "Chapter 111. Coagulation Disorders    ..................................................................................................................................\n",
      "1113\n",
      "Chapter 112. Bleeding Due to Abnormal Blood Vessels    ...........................................................................................\n",
      "1116\n",
      "Chapter 113. Spleen Disorders    ............................................................................................................................................\n",
      "1120\n",
      "Chapter 114. Eosinophilic Disorders    .................................................................................................................................\n",
      "1126\n",
      "Chapter 115. Histiocytic Syndromes    .................................................................................................................................\n",
      "1131\n",
      "Chapter 116. Myeloproliferative Disorders    .....................................................................................................................\n",
      "1141\n",
      "Chapter 117. Leukemias    .........................................................................................................................................................\n",
      "1154\n",
      "Chapter 118. Lymphomas    ......................................................................................................................................................\n",
      "1164\n",
      "Chapter 119. Plasma Cell Disorders    .................................................................................................................................\n",
      "1172\n",
      "Chapter 120. Iron Overload    ...................................................................................................................................................\n",
      "1177\n",
      "Chapter 121. Transfusion Medicine    ...................................................................................................................................\n",
      "1186\n",
      "Chapter 122. Overview of Cancer    ......................................................................................................................................\n",
      "1198\n",
      "Chapter 123. Tumor Immunology    .......................................................................................................................................\n",
      "1204\n",
      "Chapter 124. Principles of Cancer Therapy    ...................................................................................................................\n",
      "1215\n",
      "10 - Immunology; Allergic Disorders    ...........................................................................................................................\n",
      "1215\n",
      "Chapter 125. Biology of the Immune System    ...............................................................................................................\n",
      "1227\n",
      "Chapter 126. Immunodeficiency Disorders    ....................................................................................................................\n",
      "1243\n",
      "Chapter 127. Allergic & Other Hypersensitivity Disorders    .......................................................................................\n",
      "1263\n",
      "Chapter 128. Transplantation    ...............................................................................................................................................\n",
      "1281\n",
      "11 - Infectious Diseases    ........................................................................................................................................................\n",
      "1281\n",
      "Chapter 129. Biology of Infectious Disease    ...................................................................................................................\n",
      "1300\n",
      "Chapter 130. Laboratory Diagnosis of Infectious Disease    ......................................................................................\n",
      "1306\n",
      "Chapter 131. Immunization    ...................................................................................................................................................\n",
      "1313\n",
      "Chapter 132. Bacteria & Antibacterial Drugs    .................................................................................................................\n",
      "1353\n",
      "Chapter 133. Gram-Positive Cocci    ....................................................................................................................................\n",
      "1366\n",
      "Chapter 134. Gram-Positive Bacilli    ...................................................................................................................................\n",
      "1376\n",
      "Chapter 135. Gram-Negative Bacilli    .................................................................................................................................\n",
      "1405\n",
      "Chapter 136. Spirochetes    ......................................................................................................................................................\n",
      "1413\n",
      "Chapter 137. Neisseriaceae    .................................................................................................................................................\n",
      "1419\n",
      "Chapter 138. Chlamydia & Mycoplasmas    ......................................................................................................................\n",
      "1421\n",
      "Chapter 139. Rickettsiae & Related Organisms    ..........................................................................................................\n",
      "1431\n",
      "Chapter 140. Anaerobic Bacteria    ........................................................................................................................................\n",
      "1450\n",
      "Chapter 141. Mycobacteria    ...................................................................................................................................................\n",
      "1470\n",
      "Chapter 142. Fungi    ...................................................................................................................................................................\n",
      "1493\n",
      "Chapter 143. Approach to Parasitic Infections    .............................................................................................................\n",
      "1496\n",
      "Chapter 144. Nematodes (Roundworms)    .......................................................................................................................\n",
      "ajayvmahajan@gmail.com\n",
      "FZ98U1SOXE\n",
      "This file is meant for personal use by ajayvmahajan@gmail.com only.\n",
      "Sharing or publishing the contents in part or full is liable for legal action.\n"
     ]
    }
   ],
   "source": [
    "for i in range(5):\n",
    "    print(f\"Page Number : {i+1}\",end=\"\\n\")\n",
    "    print(manual[i].page_content,end=\"\\n\")"
   ]
  },
  {
   "cell_type": "markdown",
   "metadata": {
    "id": "7-wNNalNxPKT"
   },
   "source": [
    "#### Checking the number of pages"
   ]
  },
  {
   "cell_type": "code",
   "execution_count": 332,
   "metadata": {
    "colab": {
     "base_uri": "https://localhost:8080/"
    },
    "id": "-NuC-6SNRT7K",
    "outputId": "318b289c-28c2-4d1c-9e23-37c52e93d83d"
   },
   "outputs": [
    {
     "data": {
      "text/plain": [
       "4114"
      ]
     },
     "execution_count": 332,
     "metadata": {},
     "output_type": "execute_result"
    }
   ],
   "source": [
    "len(manual)"
   ]
  },
  {
   "cell_type": "markdown",
   "metadata": {
    "id": "LECMxTH-zB-R"
   },
   "source": [
    "### Data Chunking"
   ]
  },
  {
   "cell_type": "code",
   "execution_count": 333,
   "metadata": {
    "id": "ir9Zi8rKRUmG"
   },
   "outputs": [],
   "source": [
    "text_splitter = RecursiveCharacterTextSplitter.from_tiktoken_encoder(\n",
    "    encoding_name='cl100k_base',\n",
    "    chunk_size=512,\n",
    "    chunk_overlap= 20\n",
    ")"
   ]
  },
  {
   "cell_type": "code",
   "execution_count": 334,
   "metadata": {
    "id": "772A0KJ-GSPU"
   },
   "outputs": [],
   "source": [
    "document_chunks = pdf_loader.load_and_split(text_splitter)"
   ]
  },
  {
   "cell_type": "code",
   "execution_count": 335,
   "metadata": {
    "colab": {
     "base_uri": "https://localhost:8080/"
    },
    "id": "V3GHvB1TF9hW",
    "outputId": "14fbce3b-4ca3-4a4c-b79d-a925fea3e4f8"
   },
   "outputs": [
    {
     "data": {
      "text/plain": [
       "8469"
      ]
     },
     "execution_count": 335,
     "metadata": {},
     "output_type": "execute_result"
    }
   ],
   "source": [
    "len(document_chunks)"
   ]
  },
  {
   "cell_type": "code",
   "execution_count": 336,
   "metadata": {
    "colab": {
     "base_uri": "https://localhost:8080/",
     "height": 157
    },
    "id": "tk6AAjefGd4E",
    "outputId": "a6b5c3cd-df26-4037-d697-a6da609fae74"
   },
   "outputs": [
    {
     "data": {
      "application/vnd.google.colaboratory.intrinsic+json": {
       "type": "string"
      },
      "text/plain": [
       "'excessive analgesia and sedation.\\n[Table 222-8. Some Causes of Agitation or Confusion in Critical Care Patients]\\nPast medical history is reviewed for potential causes. Underlying liver disease suggests possible hepatic\\nencephalopathy. Known substance dependency or abuse suggests a withdrawal syndrome.\\nAwake, coherent patients are asked what is troubling them and are questioned specifically about pain,\\ndyspnea, and previously unreported substance dependency.\\nPhysical examination: O2 saturation < 90% suggests a hypoxic etiology. Low BP and urine output\\nsuggest CNS hypoperfusion. Fever and tachycardia suggest sepsis or delirium tremens. Neck stiffness\\nsuggests meningitis, although this finding may be difficult to demonstrate in an agitated patient. Focal\\nfindings on neurologic examination suggest stroke, hemorrhage, or increased intracranial pressure (ICP).\\nThe degree of agitation can be quantified using a scale such as the Riker Sedation-Agitation Scale (see\\nTable 222-9) or the Ramsay Sedation Scale. Use of such scales allows better consistency between\\nobservers and the identification of trends. Patients who are under neuromuscular blockade are difficult to\\nThe Merck Manual of Diagnosis & Therapy, 19th Edition\\nChapter 222. Approach to the Critically Ill Patient\\n2399\\najayvmahajan@gmail.com\\nFZ98U1SOXE\\nThis file is meant for personal use by ajayvmahajan@gmail.com only.\\nSharing or publishing the contents in part or full is liable for legal action.'"
      ]
     },
     "execution_count": 336,
     "metadata": {},
     "output_type": "execute_result"
    }
   ],
   "source": [
    "document_chunks[5000].page_content"
   ]
  },
  {
   "cell_type": "code",
   "execution_count": 337,
   "metadata": {
    "colab": {
     "base_uri": "https://localhost:8080/",
     "height": 157
    },
    "id": "xraZrIGPGhlW",
    "outputId": "d20d3b9d-843f-4eed-acd6-e4b95500fa76"
   },
   "outputs": [
    {
     "data": {
      "application/vnd.google.colaboratory.intrinsic+json": {
       "type": "string"
      },
      "text/plain": [
       "'evaluate because they may be highly agitated and uncomfortable despite appearing motionless. It is\\ntypically necessary to allow paralysis to wear off periodically (eg, daily) so that the patient can be\\nassessed.\\nTesting: Identified abnormalities (eg, hypoxia, hypotension, fever) should be clarified further with\\nappropriate testing. Head CT need not routinely be done unless focal neurologic findings are present or\\nno other etiology is found. A bispectral index (BIS) monitor may be helpful in determining the level of\\nsedation/agitation of patients under neuromuscular blockade.\\nTreatment\\nUnderlying conditions (eg, hypoxia, shock, drugs) should be addressed. The environment should be\\noptimized (eg, darkness, quiet, and minimal sleep interruption at night) as much as is compatible with\\nmedical care. Clocks, calendars, outside windows, and TV or radio programs also help connect the\\npatient with the world, lessening confusion. Family presence and consistent nursing personnel may be\\ncalming.\\nDrug treatment is dictated by the most vexing symptoms. Pain is treated with analgesics; anxiety and\\ninsomnia are treated with sedatives; and psychosis and delirium are treated with small doses of an\\nantipsychotic drug. Intubation may be needed when sedative and analgesic requirements are high\\nenough to jeopardize the airway or respiratory drive. Many drugs are available; generally, short-acting\\ndrugs are preferred for patients who need frequent neurologic examination or who are being weaned to\\nextubation.\\nAnalgesia: Pain should be treated with appropriate doses of IV opioids; conscious patients with painful\\nconditions (eg, fractures, surgical incisions) who are unable to communicate should be assumed to have\\npain and receive analgesics accordingly. Mechanical ventilation is somewhat uncomfortable, and patients\\ngenerally should receive a combination of opioid and amnestic sedative drugs. Fentanyl is the opioid of\\nchoice because of its potency, short duration of action, and minimal cardiovascular effects. A common\\nregimen can be 30 to 100 μg/h of fentanyl; individual requirements are highly variable.\\nSedation: Despite analgesia, many patients remain sufficiently agitated as to require sedation. A\\nsedative can also provide\\n[Table 222-9. Riker Sedation-Agitation Scale]'"
      ]
     },
     "execution_count": 337,
     "metadata": {},
     "output_type": "execute_result"
    }
   ],
   "source": [
    "document_chunks[5001].page_content"
   ]
  },
  {
   "cell_type": "code",
   "execution_count": 338,
   "metadata": {
    "colab": {
     "base_uri": "https://localhost:8080/",
     "height": 157
    },
    "id": "EPbHGvvTGlMt",
    "outputId": "3359412a-5a20-429f-b75c-c45248e4c469"
   },
   "outputs": [
    {
     "data": {
      "application/vnd.google.colaboratory.intrinsic+json": {
       "type": "string"
      },
      "text/plain": [
       "'[Table 222-9. Riker Sedation-Agitation Scale]\\npatient comfort at a lower dose of analgesic. Benzodiazepines (eg, lorazepam, midazolam) are most\\ncommon, but propofol, a sedative-hypnotic drug, may be used. A common regimen for sedation is\\nlorazepam 1 to 2 mg IV q 1 to 2 h or a continuous infusion at 1 to 2 mg/h if the patient is intubated. These\\ndrugs pose risks of respiratory depression, hypotension, delirium, and prolonged physiologic effects in\\nsome patients. Long-acting benzodiazepines such as diazepam, flurazepam, and chlordiazepoxide should\\nbe avoided in the elderly. Antipsychotics with less anticholinergic effect, such as haloperidol 1 to 3 mg IV,\\nmay work best when combined with benzodiazepines.\\nNeuromuscular blockade: For intubated patients, neuromuscular blockade is not a substitute for\\nsedation; it only removes visible manifestations of the problem (agitation) without correcting it. However,\\nneuromuscular blockade may be required during tests (eg CT, MRI) or procedures (eg, central line\\nplacement) that require patients to be motionless or in patients who cannot be ventilated despite\\nadequate analgesia and sedation. Prolonged neuromuscular blockade should be avoided unless patients\\nhave severe lung injury and cannot do the work of breathing safely. Use for > 1 to 2 days may lead to\\nprolonged weakness, particularly when corticosteroids are concomitantly given. Common regimens\\ninclude vecuronium (continuous infusion as directed by stimulation).\\nThe Merck Manual of Diagnosis & Therapy, 19th Edition\\nChapter 222. Approach to the Critically Ill Patient\\n2400\\najayvmahajan@gmail.com\\nFZ98U1SOXE\\nThis file is meant for personal use by ajayvmahajan@gmail.com only.\\nSharing or publishing the contents in part or full is liable for legal action.'"
      ]
     },
     "execution_count": 338,
     "metadata": {},
     "output_type": "execute_result"
    }
   ],
   "source": [
    "document_chunks[5002].page_content"
   ]
  },
  {
   "cell_type": "code",
   "execution_count": 339,
   "metadata": {
    "colab": {
     "base_uri": "https://localhost:8080/",
     "height": 157
    },
    "id": "ym4-irNxHPOW",
    "outputId": "ab6a6795-f31e-4281-e62f-a06675eea10d"
   },
   "outputs": [
    {
     "data": {
      "application/vnd.google.colaboratory.intrinsic+json": {
       "type": "string"
      },
      "text/plain": [
       "'Chapter 223. Cardiac Arrest\\nIntroduction\\nCardiac arrest is the terminal event in any fatal disorder. It may also occur suddenly (defined as within 24\\nh of onset of symptoms in a previously functioning person) and, as such, occurs outside the hospital in\\nabout 400,000 people/yr in the US, with a 90% mortality.\\nRespiratory arrest and cardiac arrest are distinct, but without treatment, one inevitably leads to the other.\\n(See also respiratory failure in Ch. 225, dyspnea on p. 1832, and hypoxia on p. 2250.)\\nEtiology\\nIn adults, sudden cardiac arrest results primarily from cardiac disease (of all types, but especially\\ncoronary artery disease). In a significant percentage of patients, sudden cardiac arrest is the first\\nmanifestation of heart disease. Other causes include circulatory shock due to noncardiac disorders\\n(especially pulmonary embolism, GI hemorrhage, or trauma), ventilatory failure, and metabolic disturbance\\n(including drug overdose).\\nIn children, cardiac causes of sudden cardiac arrest are much less common (< 15 to 20%). Instead,\\npredominant causes include trauma, poisoning, and various respiratory disorders (eg, airway obstruction,\\nsmoke inhalation, drowning, infection, sudden infant death syndrome).\\nPathophysiology\\nCardiac arrest causes global ischemia with consequences at the cellular level that adversely affect organ\\nfunction after resuscitation. The main consequences involve direct cellular damage and edema formation.\\nEdema is particularly harmful in the brain, which has minimal room to expand, and often results in\\nincreased intracranial pressure and corresponding decreased cerebral perfusion postresuscitation. A\\nsignificant proportion of successfully resuscitated patients have short-term or long-term cerebral\\ndysfunction manifested by altered alertness (from mild confusion to coma), seizures, or both.\\nDecreased ATP production leads to loss of membrane integrity with efflux of K and influx of Na and Ca.\\nExcess Na causes cellular edema. Excess Ca damages mitochondria (depressing ATP production),\\nincreases nitric oxide production (leading to formation of damaging free radicals), and, in certain\\ncircumstances, activates proteases that further damage cells.\\nAbnormal ion flux also results in depolarization of neurons, releasing neurotransmitters, some of which'"
      ]
     },
     "execution_count": 339,
     "metadata": {},
     "output_type": "execute_result"
    }
   ],
   "source": [
    "document_chunks[5003].page_content"
   ]
  },
  {
   "cell_type": "markdown",
   "metadata": {
    "id": "BvHVejcWz0Bl"
   },
   "source": [
    "### Embedding"
   ]
  },
  {
   "cell_type": "code",
   "execution_count": 340,
   "metadata": {
    "id": "R3CAgoUeRVLa"
   },
   "outputs": [],
   "source": [
    "embedding_model = SentenceTransformerEmbeddings(model_name='thenlper/gte-large')"
   ]
  },
  {
   "cell_type": "code",
   "execution_count": 341,
   "metadata": {
    "id": "KF8j4Ec7RT58"
   },
   "outputs": [],
   "source": [
    "embedding_1 = embedding_model.embed_query(document_chunks[0].page_content)\n",
    "embedding_2 = embedding_model.embed_query(document_chunks[1].page_content)"
   ]
  },
  {
   "cell_type": "code",
   "execution_count": 342,
   "metadata": {
    "colab": {
     "base_uri": "https://localhost:8080/"
    },
    "id": "kwK3ot68RUoR",
    "outputId": "632f8eef-302b-4959-e6f6-f8deb2bf5553"
   },
   "outputs": [
    {
     "name": "stdout",
     "output_type": "stream",
     "text": [
      "Dimension of the embedding vector  1024\n"
     ]
    },
    {
     "data": {
      "text/plain": [
       "True"
      ]
     },
     "execution_count": 342,
     "metadata": {},
     "output_type": "execute_result"
    }
   ],
   "source": [
    "print(\"Dimension of the embedding vector \",len(embedding_1))\n",
    "len(embedding_1)==len(embedding_2)"
   ]
  },
  {
   "cell_type": "markdown",
   "metadata": {
    "id": "qiKCOv4X0d7B"
   },
   "source": [
    "### Vector Database"
   ]
  },
  {
   "cell_type": "code",
   "execution_count": 343,
   "metadata": {
    "id": "vHHt1MQQRVzs"
   },
   "outputs": [],
   "source": [
    "out_dir = 'medical_db'\n",
    "\n",
    "if not os.path.exists(out_dir):\n",
    "    os.makedirs(out_dir)\n",
    "\n",
    "vectorstore = Chroma.from_documents(\n",
    "    documents=document_chunks,\n",
    "    embedding=embedding_model,\n",
    "    persist_directory=out_dir\n",
    ")"
   ]
  },
  {
   "cell_type": "code",
   "execution_count": 344,
   "metadata": {
    "id": "IJkUh8i_R_bz"
   },
   "outputs": [],
   "source": [
    "vectorstore = Chroma(\n",
    "    embedding_function=embedding_model,\n",
    "    persist_directory=out_dir\n",
    ")"
   ]
  },
  {
   "cell_type": "code",
   "execution_count": 345,
   "metadata": {
    "colab": {
     "base_uri": "https://localhost:8080/"
    },
    "id": "Owz5i1lASJnS",
    "outputId": "40c79140-70ee-4574-f40a-a74adc3ed3ed"
   },
   "outputs": [
    {
     "data": {
      "text/plain": [
       "HuggingFaceEmbeddings(client=SentenceTransformer(\n",
       "  (0): Transformer({'max_seq_length': 512, 'do_lower_case': False}) with Transformer model: BertModel \n",
       "  (1): Pooling({'word_embedding_dimension': 1024, 'pooling_mode_cls_token': False, 'pooling_mode_mean_tokens': True, 'pooling_mode_max_tokens': False, 'pooling_mode_mean_sqrt_len_tokens': False, 'pooling_mode_weightedmean_tokens': False, 'pooling_mode_lasttoken': False, 'include_prompt': True})\n",
       "  (2): Normalize()\n",
       "), model_name='thenlper/gte-large', cache_folder=None, model_kwargs={}, encode_kwargs={}, multi_process=False, show_progress=False)"
      ]
     },
     "execution_count": 345,
     "metadata": {},
     "output_type": "execute_result"
    }
   ],
   "source": [
    "vectorstore.embeddings"
   ]
  },
  {
   "cell_type": "code",
   "execution_count": 346,
   "metadata": {
    "colab": {
     "base_uri": "https://localhost:8080/"
    },
    "id": "toYHiL4oSPNf",
    "outputId": "ece36643-ec9c-471f-a9db-7643f0e5690d"
   },
   "outputs": [
    {
     "data": {
      "text/plain": [
       "[Document(metadata={'creationDate': 'D:20120615054440Z', 'trapped': '', 'keywords': '', 'creationdate': '2012-06-15T05:44:40+00:00', 'file_path': '/content/drive/MyDrive/medical_diagnosis_manual.pdf', 'moddate': '2025-05-28T15:49:29+00:00', 'format': 'PDF 1.7', 'title': 'The Merck Manual of Diagnosis & Therapy, 19th Edition', 'modDate': 'D:20250528154929Z', 'author': '', 'subject': '', 'producer': 'pdf-lib (https://github.com/Hopding/pdf-lib)', 'page': 173, 'total_pages': 4114, 'creator': 'Atop CHM to PDF Converter', 'source': '/content/drive/MyDrive/medical_diagnosis_manual.pdf'}, page_content=\"Etiology\\nAppendicitis is thought to result from obstruction of the appendiceal lumen, typically by lymphoid\\nhyperplasia, but occasionally by a fecalith, foreign body, or even worms. The obstruction leads to\\ndistention, bacterial overgrowth, ischemia, and inflammation. If untreated, necrosis, gangrene, and\\nperforation occur. If the perforation is contained by the omentum, an appendiceal abscess results.\\nSymptoms and Signs\\nThe classic symptoms of acute appendicitis are epigastric or periumbilical pain followed by brief nausea,\\nvomiting, and anorexia; after a few hours, the pain shifts to the right lower quadrant. Pain increases with\\ncough and motion. Classic signs are right lower quadrant direct and rebound tenderness located at\\nMcBurney's point (junction of the middle and outer thirds of the line joining the umbilicus to the anterior\\nsuperior spine). Additional signs are pain felt in the right lower quadrant with palpation of the left lower\\nquadrant (Rovsing sign), an increase in pain from passive extension of the right hip joint that stretches\\nthe iliopsoas muscle (psoas sign), or pain caused by passive internal rotation of the flexed thigh\\n(obturator sign). Low-grade fever (rectal temperature 37.7 to 38.3° C [100 to 101° F]) is common.\\nUnfortunately, these classic findings appear in < 50% of patients. Many variations of symptoms and signs\\noccur. Pain may not be localized, particularly in infants and children. Tenderness may be diffuse or, in rare\\ninstances, absent. Bowel movements are usually less frequent or absent; if diarrhea is a sign, a\\nretrocecal appendix should be suspected. RBCs or WBCs may be present in the urine. Atypical symptoms\\nare common among elderly patients and pregnant women; in particular, pain is less severe and local\\ntenderness is less marked.\\nDiagnosis\\n• Clinical evaluation\\n• Abdominal CT if necessary\\n• Ultrasound an option to CT\\nWhen classic symptoms and signs are present, the diagnosis is clinical. In such patients, delaying\\nlaparotomy to do imaging tests only increases the likelihood of perforation and subsequent complications.\\nIn patients with atypical or equivocal findings, imaging studies should be done without delay. Contrast-\"),\n",
       " Document(metadata={'title': 'The Merck Manual of Diagnosis & Therapy, 19th Edition', 'page': 173, 'file_path': '/content/drive/MyDrive/medical_diagnosis_manual.pdf', 'creator': 'Atop CHM to PDF Converter', 'modDate': 'D:20250528154929Z', 'keywords': '', 'moddate': '2025-05-28T15:49:29+00:00', 'creationdate': '2012-06-15T05:44:40+00:00', 'subject': '', 'total_pages': 4114, 'producer': 'pdf-lib (https://github.com/Hopding/pdf-lib)', 'author': '', 'source': '/content/drive/MyDrive/medical_diagnosis_manual.pdf', 'creationDate': 'D:20120615054440Z', 'trapped': '', 'format': 'PDF 1.7'}, page_content=\"Etiology\\nAppendicitis is thought to result from obstruction of the appendiceal lumen, typically by lymphoid\\nhyperplasia, but occasionally by a fecalith, foreign body, or even worms. The obstruction leads to\\ndistention, bacterial overgrowth, ischemia, and inflammation. If untreated, necrosis, gangrene, and\\nperforation occur. If the perforation is contained by the omentum, an appendiceal abscess results.\\nSymptoms and Signs\\nThe classic symptoms of acute appendicitis are epigastric or periumbilical pain followed by brief nausea,\\nvomiting, and anorexia; after a few hours, the pain shifts to the right lower quadrant. Pain increases with\\ncough and motion. Classic signs are right lower quadrant direct and rebound tenderness located at\\nMcBurney's point (junction of the middle and outer thirds of the line joining the umbilicus to the anterior\\nsuperior spine). Additional signs are pain felt in the right lower quadrant with palpation of the left lower\\nquadrant (Rovsing sign), an increase in pain from passive extension of the right hip joint that stretches\\nthe iliopsoas muscle (psoas sign), or pain caused by passive internal rotation of the flexed thigh\\n(obturator sign). Low-grade fever (rectal temperature 37.7 to 38.3° C [100 to 101° F]) is common.\\nUnfortunately, these classic findings appear in < 50% of patients. Many variations of symptoms and signs\\noccur. Pain may not be localized, particularly in infants and children. Tenderness may be diffuse or, in rare\\ninstances, absent. Bowel movements are usually less frequent or absent; if diarrhea is a sign, a\\nretrocecal appendix should be suspected. RBCs or WBCs may be present in the urine. Atypical symptoms\\nare common among elderly patients and pregnant women; in particular, pain is less severe and local\\ntenderness is less marked.\\nDiagnosis\\n• Clinical evaluation\\n• Abdominal CT if necessary\\n• Ultrasound an option to CT\\nWhen classic symptoms and signs are present, the diagnosis is clinical. In such patients, delaying\\nlaparotomy to do imaging tests only increases the likelihood of perforation and subsequent complications.\\nIn patients with atypical or equivocal findings, imaging studies should be done without delay. Contrast-\"),\n",
       " Document(metadata={'format': 'PDF 1.7', 'producer': 'pdf-lib (https://github.com/Hopding/pdf-lib)', 'title': 'The Merck Manual of Diagnosis & Therapy, 19th Edition', 'page': 173, 'modDate': 'D:20250528154929Z', 'subject': '', 'trapped': '', 'creationdate': '2012-06-15T05:44:40+00:00', 'total_pages': 4114, 'source': '/content/drive/MyDrive/medical_diagnosis_manual.pdf', 'author': '', 'creator': 'Atop CHM to PDF Converter', 'moddate': '2025-05-28T15:49:29+00:00', 'keywords': '', 'creationDate': 'D:20120615054440Z', 'file_path': '/content/drive/MyDrive/medical_diagnosis_manual.pdf'}, page_content=\"Etiology\\nAppendicitis is thought to result from obstruction of the appendiceal lumen, typically by lymphoid\\nhyperplasia, but occasionally by a fecalith, foreign body, or even worms. The obstruction leads to\\ndistention, bacterial overgrowth, ischemia, and inflammation. If untreated, necrosis, gangrene, and\\nperforation occur. If the perforation is contained by the omentum, an appendiceal abscess results.\\nSymptoms and Signs\\nThe classic symptoms of acute appendicitis are epigastric or periumbilical pain followed by brief nausea,\\nvomiting, and anorexia; after a few hours, the pain shifts to the right lower quadrant. Pain increases with\\ncough and motion. Classic signs are right lower quadrant direct and rebound tenderness located at\\nMcBurney's point (junction of the middle and outer thirds of the line joining the umbilicus to the anterior\\nsuperior spine). Additional signs are pain felt in the right lower quadrant with palpation of the left lower\\nquadrant (Rovsing sign), an increase in pain from passive extension of the right hip joint that stretches\\nthe iliopsoas muscle (psoas sign), or pain caused by passive internal rotation of the flexed thigh\\n(obturator sign). Low-grade fever (rectal temperature 37.7 to 38.3° C [100 to 101° F]) is common.\\nUnfortunately, these classic findings appear in < 50% of patients. Many variations of symptoms and signs\\noccur. Pain may not be localized, particularly in infants and children. Tenderness may be diffuse or, in rare\\ninstances, absent. Bowel movements are usually less frequent or absent; if diarrhea is a sign, a\\nretrocecal appendix should be suspected. RBCs or WBCs may be present in the urine. Atypical symptoms\\nare common among elderly patients and pregnant women; in particular, pain is less severe and local\\ntenderness is less marked.\\nDiagnosis\\n• Clinical evaluation\\n• Abdominal CT if necessary\\n• Ultrasound an option to CT\\nWhen classic symptoms and signs are present, the diagnosis is clinical. In such patients, delaying\\nlaparotomy to do imaging tests only increases the likelihood of perforation and subsequent complications.\\nIn patients with atypical or equivocal findings, imaging studies should be done without delay. Contrast-\")]"
      ]
     },
     "execution_count": 346,
     "metadata": {},
     "output_type": "execute_result"
    }
   ],
   "source": [
    "vectorstore.similarity_search(\"symptoms appendicitis?\",k=3)"
   ]
  },
  {
   "cell_type": "markdown",
   "metadata": {
    "id": "uEa5sKc41T1z"
   },
   "source": [
    "### Retriever"
   ]
  },
  {
   "cell_type": "code",
   "execution_count": 347,
   "metadata": {
    "id": "wBlQUGx3RWUD"
   },
   "outputs": [],
   "source": [
    "retriever = vectorstore.as_retriever(\n",
    "    search_type='similarity',\n",
    "    search_kwargs={'k': 2} #Complete the code to pass an appropriate k value\n",
    ")"
   ]
  },
  {
   "cell_type": "code",
   "execution_count": 348,
   "metadata": {
    "colab": {
     "base_uri": "https://localhost:8080/"
    },
    "id": "hUmM8lZJaaqE",
    "outputId": "7da6687c-6241-4cab-ed84-a81e8b0cff34"
   },
   "outputs": [
    {
     "data": {
      "text/plain": [
       "[Document(metadata={'creationdate': '2012-06-15T05:44:40+00:00', 'subject': '', 'creationDate': 'D:20120615054440Z', 'file_path': '/content/drive/MyDrive/medical_diagnosis_manual.pdf', 'creator': 'Atop CHM to PDF Converter', 'author': '', 'title': 'The Merck Manual of Diagnosis & Therapy, 19th Edition', 'moddate': '2025-05-28T15:49:29+00:00', 'format': 'PDF 1.7', 'page': 173, 'producer': 'pdf-lib (https://github.com/Hopding/pdf-lib)', 'trapped': '', 'keywords': '', 'source': '/content/drive/MyDrive/medical_diagnosis_manual.pdf', 'modDate': 'D:20250528154929Z', 'total_pages': 4114}, page_content=\"Etiology\\nAppendicitis is thought to result from obstruction of the appendiceal lumen, typically by lymphoid\\nhyperplasia, but occasionally by a fecalith, foreign body, or even worms. The obstruction leads to\\ndistention, bacterial overgrowth, ischemia, and inflammation. If untreated, necrosis, gangrene, and\\nperforation occur. If the perforation is contained by the omentum, an appendiceal abscess results.\\nSymptoms and Signs\\nThe classic symptoms of acute appendicitis are epigastric or periumbilical pain followed by brief nausea,\\nvomiting, and anorexia; after a few hours, the pain shifts to the right lower quadrant. Pain increases with\\ncough and motion. Classic signs are right lower quadrant direct and rebound tenderness located at\\nMcBurney's point (junction of the middle and outer thirds of the line joining the umbilicus to the anterior\\nsuperior spine). Additional signs are pain felt in the right lower quadrant with palpation of the left lower\\nquadrant (Rovsing sign), an increase in pain from passive extension of the right hip joint that stretches\\nthe iliopsoas muscle (psoas sign), or pain caused by passive internal rotation of the flexed thigh\\n(obturator sign). Low-grade fever (rectal temperature 37.7 to 38.3° C [100 to 101° F]) is common.\\nUnfortunately, these classic findings appear in < 50% of patients. Many variations of symptoms and signs\\noccur. Pain may not be localized, particularly in infants and children. Tenderness may be diffuse or, in rare\\ninstances, absent. Bowel movements are usually less frequent or absent; if diarrhea is a sign, a\\nretrocecal appendix should be suspected. RBCs or WBCs may be present in the urine. Atypical symptoms\\nare common among elderly patients and pregnant women; in particular, pain is less severe and local\\ntenderness is less marked.\\nDiagnosis\\n• Clinical evaluation\\n• Abdominal CT if necessary\\n• Ultrasound an option to CT\\nWhen classic symptoms and signs are present, the diagnosis is clinical. In such patients, delaying\\nlaparotomy to do imaging tests only increases the likelihood of perforation and subsequent complications.\\nIn patients with atypical or equivocal findings, imaging studies should be done without delay. Contrast-\"),\n",
       " Document(metadata={'page': 173, 'creator': 'Atop CHM to PDF Converter', 'author': '', 'total_pages': 4114, 'source': '/content/drive/MyDrive/medical_diagnosis_manual.pdf', 'trapped': '', 'format': 'PDF 1.7', 'keywords': '', 'file_path': '/content/drive/MyDrive/medical_diagnosis_manual.pdf', 'creationdate': '2012-06-15T05:44:40+00:00', 'moddate': '2025-05-28T15:49:29+00:00', 'title': 'The Merck Manual of Diagnosis & Therapy, 19th Edition', 'producer': 'pdf-lib (https://github.com/Hopding/pdf-lib)', 'subject': '', 'creationDate': 'D:20120615054440Z', 'modDate': 'D:20250528154929Z'}, page_content=\"Etiology\\nAppendicitis is thought to result from obstruction of the appendiceal lumen, typically by lymphoid\\nhyperplasia, but occasionally by a fecalith, foreign body, or even worms. The obstruction leads to\\ndistention, bacterial overgrowth, ischemia, and inflammation. If untreated, necrosis, gangrene, and\\nperforation occur. If the perforation is contained by the omentum, an appendiceal abscess results.\\nSymptoms and Signs\\nThe classic symptoms of acute appendicitis are epigastric or periumbilical pain followed by brief nausea,\\nvomiting, and anorexia; after a few hours, the pain shifts to the right lower quadrant. Pain increases with\\ncough and motion. Classic signs are right lower quadrant direct and rebound tenderness located at\\nMcBurney's point (junction of the middle and outer thirds of the line joining the umbilicus to the anterior\\nsuperior spine). Additional signs are pain felt in the right lower quadrant with palpation of the left lower\\nquadrant (Rovsing sign), an increase in pain from passive extension of the right hip joint that stretches\\nthe iliopsoas muscle (psoas sign), or pain caused by passive internal rotation of the flexed thigh\\n(obturator sign). Low-grade fever (rectal temperature 37.7 to 38.3° C [100 to 101° F]) is common.\\nUnfortunately, these classic findings appear in < 50% of patients. Many variations of symptoms and signs\\noccur. Pain may not be localized, particularly in infants and children. Tenderness may be diffuse or, in rare\\ninstances, absent. Bowel movements are usually less frequent or absent; if diarrhea is a sign, a\\nretrocecal appendix should be suspected. RBCs or WBCs may be present in the urine. Atypical symptoms\\nare common among elderly patients and pregnant women; in particular, pain is less severe and local\\ntenderness is less marked.\\nDiagnosis\\n• Clinical evaluation\\n• Abdominal CT if necessary\\n• Ultrasound an option to CT\\nWhen classic symptoms and signs are present, the diagnosis is clinical. In such patients, delaying\\nlaparotomy to do imaging tests only increases the likelihood of perforation and subsequent complications.\\nIn patients with atypical or equivocal findings, imaging studies should be done without delay. Contrast-\")]"
      ]
     },
     "execution_count": 348,
     "metadata": {},
     "output_type": "execute_result"
    }
   ],
   "source": [
    "rel_docs = retriever.get_relevant_documents(query='what are the symptoms appendicitis?')\n",
    "rel_docs"
   ]
  },
  {
   "cell_type": "markdown",
   "metadata": {
    "id": "wMVtAchp7Al2"
   },
   "source": [
    "The above response is somewhat generic and is solely based on the data the model was trained on, rather than the medical manual.\n",
    "\n",
    "Let's now provide our own context."
   ]
  },
  {
   "cell_type": "markdown",
   "metadata": {
    "id": "vw8qcwq66B0C",
    "nteract": {
     "transient": {
      "deleting": false
     }
    }
   },
   "source": [
    "### System and User Prompt Template"
   ]
  },
  {
   "cell_type": "markdown",
   "metadata": {
    "id": "NWkWMNRn7GAV"
   },
   "source": [
    "Prompts guide the model to generate accurate responses. Here, we define two parts:\n",
    "\n",
    "1. The system message describing the assistant's role.\n",
    "2. A user message template including context and the question."
   ]
  },
  {
   "cell_type": "code",
   "execution_count": 349,
   "metadata": {
    "id": "GF_4399TRW5D"
   },
   "outputs": [],
   "source": [
    "qna_system_message = \"\"\"You are a knowledgeable clinical assistant. Based only on the provided context, answer the medical question clearly and accurately.\n",
    "Use the following rules:\n",
    "- Structure your answer with **bold headings** and bullet points\n",
    "- Use short, clinical language suitable for physicians or informed patients\n",
    "- Do not include information not found in the context\n",
    "- If the context is insufficient to answer, say so explicitly\n",
    "\"\"\""
   ]
  },
  {
   "cell_type": "code",
   "execution_count": 350,
   "metadata": {
    "id": "TkKfs05WhRZW"
   },
   "outputs": [],
   "source": [
    "qna_user_message_template = \"\"\"Context:\n",
    "{context}\n",
    "\n",
    "Question:\n",
    "{question}\n",
    "\n",
    "Instructions:\n",
    "Answer the question using only the above context. Do not make up facts. Format your answer with bullet points and bold section titles where appropriate.\n",
    "\"\"\""
   ]
  },
  {
   "cell_type": "markdown",
   "metadata": {
    "id": "TkIteX4m6mny"
   },
   "source": [
    "### Response Function"
   ]
  },
  {
   "cell_type": "code",
   "execution_count": 351,
   "metadata": {
    "id": "7xIaV2kbp3L3"
   },
   "outputs": [],
   "source": [
    "from IPython.display import Markdown, display\n",
    "\n",
    "def display_markdown_response(text):\n",
    "    if isinstance(text, bytes):\n",
    "        text = text.decode(\"utf-8\", errors=\"replace\")\n",
    "    else:\n",
    "        text = text.encode('latin1', errors='ignore').decode('utf-8', errors='ignore')\n",
    "\n",
    "    # Decode escape sequences\n",
    "    cleaned_text = text.encode().decode(\"unicode_escape\").strip()\n",
    "\n",
    "    # Fix common bad encodings\n",
    "    replacements = {\n",
    "        \"â¢\": \"•\",\n",
    "        \"â\": \"-\",\n",
    "        \"â\": \"—\",\n",
    "        \"â\": \"'\",\n",
    "        \"â\": '\"',\n",
    "        \"â\": '\"',\n",
    "        \"Bold Section Titles:\": \"\",\n",
    "        \"Bullet Points:\": \"\"\n",
    "    }\n",
    "    for bad, good in replacements.items():\n",
    "        cleaned_text = cleaned_text.replace(bad, good)\n",
    "\n",
    "    display(Markdown(cleaned_text))\n"
   ]
  },
  {
   "cell_type": "code",
   "execution_count": 352,
   "metadata": {
    "id": "5jFvGnOJRXZx"
   },
   "outputs": [],
   "source": [
    "def generate_rag_response(user_input,k=3,max_tokens=512,temperature=0,top_p=0.95,top_k=50):\n",
    "    global qna_system_message,qna_user_message_template\n",
    "    # Retrieve relevant document chunks\n",
    "    relevant_document_chunks = retriever.get_relevant_documents(query=user_input,k=k)\n",
    "    context_list = [d.page_content for d in relevant_document_chunks]\n",
    "\n",
    "    # Combine document chunks into a single context\n",
    "    context_for_query = \". \".join(context_list)\n",
    "\n",
    "    user_message = qna_user_message_template.replace('{context}', context_for_query)\n",
    "    user_message = user_message.replace('{question}', user_input)\n",
    "\n",
    "    prompt = f\"\"\"[INST]\n",
    "    {qna_system_message}\n",
    "\n",
    "    {qna_user_message_template.format(context=context_for_query, question=user_input)}\n",
    "    [/INST]\"\"\"\n",
    "\n",
    "    # prompt = qna_system_message + '\\n' + user_message\n",
    "\n",
    "    # Generate the response\n",
    "    try:\n",
    "        response = llm(\n",
    "                  prompt=prompt,\n",
    "                  max_tokens=max_tokens,\n",
    "                  temperature=temperature,\n",
    "                  top_p=top_p,\n",
    "                  top_k=top_k\n",
    "                  )\n",
    "\n",
    "        # Extract and print the model's response\n",
    "        response = response['choices'][0]['text'].strip()\n",
    "    except Exception as e:\n",
    "        response = f'Sorry, I encountered the following error: \\n {e}'\n",
    "\n",
    "    return response"
   ]
  },
  {
   "cell_type": "markdown",
   "metadata": {
    "id": "ffP1SRYbPQHN"
   },
   "source": [
    "## Question Answering using RAG"
   ]
  },
  {
   "cell_type": "markdown",
   "metadata": {
    "id": "JjajBEj06B0E"
   },
   "source": [
    "### Query 1: What is the protocol for managing sepsis in a critical care unit?"
   ]
  },
  {
   "cell_type": "code",
   "execution_count": 353,
   "metadata": {
    "colab": {
     "base_uri": "https://localhost:8080/",
     "height": 680
    },
    "id": "Nlo9sMpPRbTP",
    "outputId": "913f7523-0f34-412a-a632-31098ad41fd8"
   },
   "outputs": [
    {
     "name": "stderr",
     "output_type": "stream",
     "text": [
      "Llama.generate: prefix-match hit\n",
      "\n",
      "llama_print_timings:        load time =    1761.86 ms\n",
      "llama_print_timings:      sample time =     327.26 ms /   506 runs   (    0.65 ms per token,  1546.15 tokens per second)\n",
      "llama_print_timings: prompt eval time =    2287.01 ms /  1877 tokens (    1.22 ms per token,   820.72 tokens per second)\n",
      "llama_print_timings:        eval time =   17933.99 ms /   505 runs   (   35.51 ms per token,    28.16 tokens per second)\n",
      "llama_print_timings:       total time =   21148.69 ms /  2382 tokens\n"
     ]
    },
    {
     "data": {
      "text/markdown": [
       "**Sepsis Management Protocol in Critical Care Units**\n",
       "\n",
       "* **Frequent Monitoring**:\n",
       "\t+ Systemic pressure; CVP, PAOP, or both\n",
       "\t+ Pulse oximetry\n",
       "\t+ ABGs; blood glucose, lactate, and electrolyte levels\n",
       "\t+ Renal function, and possibly sublingual PCO2\n",
       "\t+ Urine output, a good indicator of renal perfusion\n",
       "* **Fluid Resuscitation**:\n",
       "\t+ 0.9% saline until CVP reaches 8 mm Hg (10 cm H2O) or PAOP reaches 12 to 15 mm Hg\n",
       "\t+ Oliguria with hypotension is not a contraindication to vigorous fluid resuscitation\n",
       "\t+ Quantity of fluid required often far exceeds the normal blood volume and may reach 10 L over 4 to 12 h\n",
       "* **Dopamine Therapy**:\n",
       "\t+ If a patient with septic shock remains hypotensive after CVP or PAOP has been raised to target levels, dopamine may be given to increase mean BP to at least 60 mm Hg\n",
       "\t+ However, vasoconstriction caused by higher doses of dopamine and norepinephrine poses risks of organ hypoperfusion and acidosis\n",
       "* **Oxygen Therapy**:\n",
       "\t+ O2 is given by mask or nasal prongs\n",
       "\t+ Tracheal intubation and mechanical ventilation may be needed subsequently for respiratory failure\n",
       "* **Supportive Care**:\n",
       "\t+ Provision of adequate nutrition (see p. 21)\n",
       "\t+ Prevention of infection, stress ulcers, and gastritis (see p. 131)\n",
       "\t+ Pulmonary embolism prevention (see p. 1920)\n",
       "* **Blood Tests**:\n",
       "\t+ Routine daily blood tests to help detect problems early, including electrolytes and CBC\n",
       "\t+ Additional tests as needed, such as blood culture for fever, CBC after a bleeding episode\n",
       "\n",
       "Note: The above protocol is based on the provided context and should not be considered a comprehensive or substitute for professional medical advice."
      ],
      "text/plain": [
       "<IPython.core.display.Markdown object>"
      ]
     },
     "metadata": {},
     "output_type": "display_data"
    }
   ],
   "source": [
    "user_input = \"What is the protocol for managing sepsis in a critical care unit?\"\n",
    "response = generate_rag_response(user_input, max_tokens=512)\n",
    "display_markdown_response(response)\n"
   ]
  },
  {
   "cell_type": "markdown",
   "metadata": {
    "id": "QDw8zXuq6B0F"
   },
   "source": [
    "### Query 2: What are the common symptoms for appendicitis, and can it be cured via medicine? If not, what surgical procedure should be followed to treat it?"
   ]
  },
  {
   "cell_type": "code",
   "execution_count": 354,
   "metadata": {
    "colab": {
     "base_uri": "https://localhost:8080/",
     "height": 511
    },
    "id": "PVReF4G8RbzR",
    "outputId": "99e9e53a-7f39-40b8-830d-5404bf201558"
   },
   "outputs": [
    {
     "name": "stderr",
     "output_type": "stream",
     "text": [
      "Llama.generate: prefix-match hit\n",
      "\n",
      "llama_print_timings:        load time =    1761.86 ms\n",
      "llama_print_timings:      sample time =     261.66 ms /   409 runs   (    0.64 ms per token,  1563.10 tokens per second)\n",
      "llama_print_timings: prompt eval time =    2349.41 ms /  1972 tokens (    1.19 ms per token,   839.36 tokens per second)\n",
      "llama_print_timings:        eval time =   14693.11 ms /   408 runs   (   36.01 ms per token,    27.77 tokens per second)\n",
      "llama_print_timings:       total time =   17760.16 ms /  2380 tokens\n"
     ]
    },
    {
     "data": {
      "text/markdown": [
       "Sure, I can help you with that! Here's the answer based on the provided context:\n",
       "\n",
       "**Symptoms of Appendicitis:**\n",
       "\n",
       "* Sudden and severe pain in the abdomen (often near the navel)\n",
       "* Nausea and vomiting\n",
       "* Loss of appetite\n",
       "* Fever\n",
       "* Abdominal tenderness and guarding (muscle tension)\n",
       "\n",
       "**Can Appendicitis be Cured via Medicine?**\n",
       "\n",
       "No, appendicitis cannot be cured solely with medicine. Antibiotics may be used to treat any secondary infections, but they do not address the underlying inflammation of the appendix. Surgical intervention is necessary to remove the inflamed appendix and prevent further complications.\n",
       "\n",
       "**Surgical Procedure for Treating Appendicitis:**\n",
       "\n",
       "The preferred surgical procedure for treating appendicitis is a laparoscopic appendectomy, which involves removing the inflamed appendix through small incisions in the abdomen. This approach has been shown to have fewer complications and a faster recovery time compared to open appendectomy.\n",
       "\n",
       "If the appendix is perforated, antibiotics may be administered before surgery to help reduce the risk of infection. In some cases, an open appendectomy may be necessary if the appendix is difficult to locate or if there are other complications present.\n",
       "\n",
       "It's important to note that a negative appendectomy rate of 15% is considered acceptable, meaning that in about 15% of cases, the surgeon may not be able to remove the inflamed appendix due to its location or other factors. In these cases, the patient may require further treatment, such as antibiotics and supportive care, to manage any ongoing infection or inflammation."
      ],
      "text/plain": [
       "<IPython.core.display.Markdown object>"
      ]
     },
     "metadata": {},
     "output_type": "display_data"
    }
   ],
   "source": [
    "user_input = \"What are the common symptoms for appendicitis, and can it be cured via medicine? If not, what surgical procedure should be followed to treat it?\"\n",
    "response = generate_rag_response(user_input)\n",
    "display_markdown_response(response)\n"
   ]
  },
  {
   "cell_type": "markdown",
   "metadata": {
    "id": "TggYyQPL6B0G"
   },
   "source": [
    "### Query 3: What are the effective treatments or solutions for addressing sudden patchy hair loss, commonly seen as localized bald spots on the scalp, and what could be the possible causes behind it?"
   ]
  },
  {
   "cell_type": "code",
   "execution_count": 355,
   "metadata": {
    "colab": {
     "base_uri": "https://localhost:8080/",
     "height": 754
    },
    "id": "0aRbadGtRcX0",
    "outputId": "165c485e-f558-4fb9-de3e-0f40972dac78"
   },
   "outputs": [
    {
     "name": "stderr",
     "output_type": "stream",
     "text": [
      "Llama.generate: prefix-match hit\n",
      "\n",
      "llama_print_timings:        load time =    1761.86 ms\n",
      "llama_print_timings:      sample time =     328.39 ms /   512 runs   (    0.64 ms per token,  1559.11 tokens per second)\n",
      "llama_print_timings: prompt eval time =    1615.15 ms /  1231 tokens (    1.31 ms per token,   762.16 tokens per second)\n",
      "llama_print_timings:        eval time =   17883.20 ms /   511 runs   (   35.00 ms per token,    28.57 tokens per second)\n",
      "llama_print_timings:       total time =   20428.26 ms /  1742 tokens\n"
     ]
    },
    {
     "data": {
      "text/markdown": [
       "Based on the provided context, here are the effective treatments or solutions for addressing sudden patchy hair loss, commonly seen as localized bald spots on the scalp, and the possible causes behind it:\n",
       "\n",
       "**Effective Treatments for Sudden Patchy Hair Loss:**\n",
       "\n",
       "1. **Medications:**\n",
       "\t* Corticosteroids: to reduce inflammation and suppress the immune system\n",
       "\t* Retinoids: to promote hair growth and prevent further hair loss\n",
       "\t* Immunosuppressants: to suppress the immune system and prevent autoimmune attacks on hair follicles\n",
       "2. **Wigs or Hairpieces:**\n",
       "\t* Temporary solution for hair loss due to chemotherapy or other medical conditions\n",
       "\t* Can be customized to match the patient's natural hair color and style\n",
       "3. **Hair Transplantation:**\n",
       "\t* Permanent solution for hair loss, involves transplanting healthy hair follicles from one part of the scalp to another\n",
       "4. **Low-Level Laser Therapy (LLLT):**\n",
       "\t* Non-invasive treatment that stimulates hair growth and reduces inflammation\n",
       "5. **Platelet-Rich Plasma (PRP) Therapy:**\n",
       "\t* Injecting platelet-rich plasma into the scalp to stimulate hair growth and reduce inflammation\n",
       "\n",
       "**Possible Causes of Sudden Patchy Hair Loss:**\n",
       "\n",
       "1. **Alopecia Areata:**\n",
       "\t* Autoimmune disorder that causes sudden patchy hair loss, often affecting the scalp and beard area\n",
       "\t* May affect most or all of the body (alopecia universalis)\n",
       "2. **Telogen Effluvium:**\n",
       "\t* Condition where hair follicles enter the resting phase and shed, often due to physical or emotional stress\n",
       "3. **Anagen Effluvium:**\n",
       "\t* Condition where hair follicles stop growing and enter the resting phase, often due to exposure to chemicals or radiation therapy\n",
       "4. **Androgenetic Alopecia (Male-Pattern and Female-Pattern Hair Loss):**\n",
       "\t* Most common type of hair loss, caused by horm"
      ],
      "text/plain": [
       "<IPython.core.display.Markdown object>"
      ]
     },
     "metadata": {},
     "output_type": "display_data"
    }
   ],
   "source": [
    "user_input = \"What are the effective treatments or solutions for addressing sudden patchy hair loss, commonly seen as localized bald spots on the scalp, and what could be the possible causes behind it?\"\n",
    "response = generate_rag_response(user_input)\n",
    "display_markdown_response(response)\n"
   ]
  },
  {
   "cell_type": "markdown",
   "metadata": {
    "id": "1TgxdI-_6B0G"
   },
   "source": [
    "### Query 4:  What treatments are recommended for a person who has sustained a physical injury to brain tissue, resulting in temporary or permanent impairment of brain function?"
   ]
  },
  {
   "cell_type": "code",
   "execution_count": 356,
   "metadata": {
    "colab": {
     "base_uri": "https://localhost:8080/",
     "height": 546
    },
    "id": "0vzRX1TcRc29",
    "outputId": "b1170d26-43fd-44ce-d857-955332f725cc"
   },
   "outputs": [
    {
     "name": "stderr",
     "output_type": "stream",
     "text": [
      "Llama.generate: prefix-match hit\n",
      "\n",
      "llama_print_timings:        load time =    1761.86 ms\n",
      "llama_print_timings:      sample time =     269.58 ms /   425 runs   (    0.63 ms per token,  1576.50 tokens per second)\n",
      "llama_print_timings: prompt eval time =    2279.07 ms /  1898 tokens (    1.20 ms per token,   832.79 tokens per second)\n",
      "llama_print_timings:        eval time =   15229.39 ms /   424 runs   (   35.92 ms per token,    27.84 tokens per second)\n",
      "llama_print_timings:       total time =   18258.96 ms /  2322 tokens\n"
     ]
    },
    {
     "data": {
      "text/markdown": [
       "Based on the provided context, the following treatments are recommended for a person who has sustained a physical injury to brain tissue, resulting in temporary or permanent impairment of brain function:\n",
       "\n",
       "**Ensuring Adequate Airway and Breathing**\n",
       "\n",
       "* Maintaining a reliable airway is crucial to ensure adequate oxygenation of the brain\n",
       "* Endotracheal intubation may be necessary if the patient is unable to maintain their own airway\n",
       "\n",
       "**Maintaining Adequate Blood Pressure and Oxygenation**\n",
       "\n",
       "* Monitoring vital signs regularly to ensure stable blood pressure and oxygen saturation\n",
       "* Administering fluids and medications as needed to maintain adequate blood pressure and oxygenation\n",
       "\n",
       "**Monitoring and Treating Intracranial Pressure**\n",
       "\n",
       "* Placing monitors to track intracranial pressure and monitor for any changes in the patient's condition\n",
       "* Performing surgery if intracranial pressure is increased, such as decompressing the brain or removing hematomas\n",
       "\n",
       "**Preventing Complications of Altered Sensorium**\n",
       "\n",
       "* Monitoring the patient's mental status and preventing complications such as seizures, aspiration, and decubitus ulcers\n",
       "* Providing appropriate medications to manage seizures, agitation, or other neurological symptoms\n",
       "\n",
       "**Rehabilitation**\n",
       "\n",
       "* Providing physical, occupational, and speech therapy to help the patient regain lost functions and improve their quality of life\n",
       "* Monitoring the patient's progress and adjusting the rehabilitation plan as needed\n",
       "\n",
       "It is important to note that the specific treatment plan will depend on the severity and location of the injury, as well as the individual needs of the patient. Additionally, the context does not provide information on the long-term outcomes or prognosis for patients with traumatic brain injury."
      ],
      "text/plain": [
       "<IPython.core.display.Markdown object>"
      ]
     },
     "metadata": {},
     "output_type": "display_data"
    }
   ],
   "source": [
    "user_input = \"What treatments are recommended for a person who has sustained a physical injury to brain tissue, resulting in temporary or permanent impairment of brain function?\"\n",
    "response = generate_rag_response(user_input)\n",
    "display_markdown_response(response)\n"
   ]
  },
  {
   "cell_type": "markdown",
   "metadata": {
    "id": "FlHXYCkm6B0H"
   },
   "source": [
    "### Query 5: What are the necessary precautions and treatment steps for a person who has fractured their leg during a hiking trip, and what should be considered for their care and recovery?"
   ]
  },
  {
   "cell_type": "code",
   "execution_count": 357,
   "metadata": {
    "colab": {
     "base_uri": "https://localhost:8080/",
     "height": 583
    },
    "id": "sarpUibcRdhq",
    "outputId": "35f3e789-546e-4698-95e7-2e8a4cebee15"
   },
   "outputs": [
    {
     "name": "stderr",
     "output_type": "stream",
     "text": [
      "Llama.generate: prefix-match hit\n",
      "\n",
      "llama_print_timings:        load time =    1761.86 ms\n",
      "llama_print_timings:      sample time =     321.67 ms /   512 runs   (    0.63 ms per token,  1591.70 tokens per second)\n",
      "llama_print_timings: prompt eval time =    1273.90 ms /   578 tokens (    2.20 ms per token,   453.72 tokens per second)\n",
      "llama_print_timings:        eval time =   17265.22 ms /   511 runs   (   33.79 ms per token,    29.60 tokens per second)\n",
      "llama_print_timings:       total time =   19406.89 ms /  1089 tokens\n"
     ]
    },
    {
     "data": {
      "text/markdown": [
       "Sure, I'd be happy to help! Based on the provided context, here are the necessary precautions and treatment steps for a person who has fractured their leg during a hiking trip:\n",
       "\n",
       "**Precautions:**\n",
       "\n",
       "* Suspected open fractures require sterile wound dressings, tetanus prophylaxis, and broad-spectrum antibiotics (e.g., a 2nd-generation cephalosporin plus an aminoglycoside).\n",
       "* Patients should use a cane for support.\n",
       "* The cane should be moved to the lower step shortly before descending with the bad leg.\n",
       "\n",
       "**Treatment Steps:**\n",
       "\n",
       "1. **Immobilization:** Use a splint to immobilize the affected limb and prevent further injury or deformity.\n",
       "2. **Pain Management:** Administer appropriate pain medication as needed.\n",
       "3. **Wound Care:** Clean and dress any open wounds to prevent infection.\n",
       "4. **Antibiotics:** Provide broad-spectrum antibiotics to prevent infection, especially for suspected open fractures.\n",
       "5. **Tetanus Prophylaxis:** Administer tetanus immunoglobulin if the patient has not received a tetanus shot within the past 10 years.\n",
       "6. **Monitoring:** Closely monitor the patient's vital signs, wound healing, and overall condition.\n",
       "7. **Rehabilitation:** Refer the patient to physical therapy as soon as possible to facilitate recovery and prevent complications.\n",
       "\n",
       "**Considerations for Care and Recovery:**\n",
       "\n",
       "1. **Rest:** Encourage the patient to rest the affected limb and avoid any strenuous activities.\n",
       "2. **Elevation:** Elevate the affected limb above heart level to reduce swelling and promote healing.\n",
       "3. **Hydration:** Ensure the patient stays well-hydrated to support the healing process.\n",
       "4. **Nutrition:** Provide a balanced diet rich in essential nutrients for optimal healing.\n",
       "5. **Follow-up Care:** Schedule regular follow-up appointments with a healthcare provider"
      ],
      "text/plain": [
       "<IPython.core.display.Markdown object>"
      ]
     },
     "metadata": {},
     "output_type": "display_data"
    }
   ],
   "source": [
    "user_input = \"What are the necessary precautions and treatment steps for a person who has fractured their leg during a hiking trip, and what should be considered for their care and recovery?\"\n",
    "response = generate_rag_response(user_input)\n",
    "display_markdown_response(response)\n"
   ]
  },
  {
   "cell_type": "markdown",
   "metadata": {
    "id": "K7TYrqycEITB"
   },
   "source": [
    "### Fine-tuning"
   ]
  },
  {
   "cell_type": "markdown",
   "metadata": {
    "id": "tZuSFXvA6PUe"
   },
   "source": [
    "**Query 1: What is the protocol for managing sepsis in a critical care unit?**"
   ]
  },
  {
   "cell_type": "code",
   "execution_count": 358,
   "metadata": {
    "colab": {
     "base_uri": "https://localhost:8080/",
     "height": 720
    },
    "id": "7UYBR-hcReSo",
    "outputId": "cff2eebd-531e-4551-94b0-bd4047083162"
   },
   "outputs": [
    {
     "name": "stderr",
     "output_type": "stream",
     "text": [
      "Llama.generate: prefix-match hit\n",
      "\n",
      "llama_print_timings:        load time =    1761.86 ms\n",
      "llama_print_timings:      sample time =     322.04 ms /   494 runs   (    0.65 ms per token,  1533.99 tokens per second)\n",
      "llama_print_timings: prompt eval time =    2148.10 ms /  1778 tokens (    1.21 ms per token,   827.71 tokens per second)\n",
      "llama_print_timings:        eval time =   17745.48 ms /   493 runs   (   35.99 ms per token,    27.78 tokens per second)\n",
      "llama_print_timings:       total time =   20800.75 ms /  2271 tokens\n"
     ]
    },
    {
     "data": {
      "text/markdown": [
       "**Sepsis Management Protocol in Critical Care Units**\n",
       "\n",
       "* Monitoring:\n",
       "\t+ Systemic pressure (CVP, PAOP)\n",
       "\t+ Pulse oximetry\n",
       "\t+ ABGs\n",
       "\t+ Blood glucose, lactate, and electrolyte levels\n",
       "\t+ Renal function, and possibly sublingual PCO2\n",
       "\t+ Urine output (measured with an indwelling catheter)\n",
       "* Fluid resuscitation:\n",
       "\t+ 0.9% saline until CVP reaches 8 mm Hg or PAOP reaches 12-15 mm Hg\n",
       "\t+ Oliguria with hypotension is not a contraindication to fluid resuscitation\n",
       "\t+ Frequent monitoring of fluid intake and output\n",
       "* Vasopressor therapy:\n",
       "\t+ Dopamine may be given to increase mean BP to at least 60 mm Hg if CVP or PAOP targets are not achieved with fluid resuscitation\n",
       "\t+ Norepinephrine may be added if dopamine dose exceeds 20 g/kg/min\n",
       "\t+ Vasoconstriction caused by higher doses of dopamine and norepinephrine poses risks of organ hypoperfusion and acidosis\n",
       "* Oxygen therapy:\n",
       "\t+ Given by mask or nasal prongs\n",
       "\t+ Tracheal intubation and mechanical ventilation may be needed subsequently for respiratory failure\n",
       "* Monitoring for signs of fluid overload and pulmonary edema\n",
       "* Electrolyte replacement and management of arrhythmias as needed\n",
       "* Protocols for investigating alarms from complex devices\n",
       "* Routine daily blood tests to help detect problems early, including:\n",
       "\t+ Electrolytes\n",
       "\t+ CBC\n",
       "\t+ Mg, phosphate, and Ca levels for patients with arrhythmias\n",
       "\t+ Liver enzymes and coagulation profiles for patients receiving TPN\n",
       "\t+ Other tests as needed (e.g., blood culture for fever, CBC after a bleeding episode)\n",
       "\n",
       "Note: The above protocol is based on the provided context and should not be considered a comprehensive or substitute for medical advice."
      ],
      "text/plain": [
       "<IPython.core.display.Markdown object>"
      ]
     },
     "metadata": {},
     "output_type": "display_data"
    }
   ],
   "source": [
    "user_input = \"What is the protocol for managing sepsis in a critical care unit?\"\n",
    "response = generate_rag_response(user_input, temperature=0.75)\n",
    "display_markdown_response(response)\n"
   ]
  },
  {
   "cell_type": "markdown",
   "metadata": {
    "id": "hbjKKf4o6Tl-"
   },
   "source": [
    "**Query 2: What are the common symptoms for appendicitis, and can it be cured via medicine? If not, what surgical procedure should be followed to treat it?**"
   ]
  },
  {
   "cell_type": "code",
   "execution_count": 359,
   "metadata": {
    "colab": {
     "base_uri": "https://localhost:8080/",
     "height": 494
    },
    "id": "Qbb3xLxgbipU",
    "outputId": "24f28018-e688-45e1-fc27-d05ad6feb173"
   },
   "outputs": [
    {
     "name": "stderr",
     "output_type": "stream",
     "text": [
      "Llama.generate: prefix-match hit\n",
      "\n",
      "llama_print_timings:        load time =    1761.86 ms\n",
      "llama_print_timings:      sample time =     198.27 ms /   315 runs   (    0.63 ms per token,  1588.77 tokens per second)\n",
      "llama_print_timings: prompt eval time =    2340.32 ms /  1972 tokens (    1.19 ms per token,   842.62 tokens per second)\n",
      "llama_print_timings:        eval time =   11294.20 ms /   314 runs   (   35.97 ms per token,    27.80 tokens per second)\n",
      "llama_print_timings:       total time =   14154.34 ms /  2286 tokens\n"
     ]
    },
    {
     "data": {
      "text/markdown": [
       "Sure, I can help you with that! Here's the answer based on the provided context:\n",
       "\n",
       "**Symptoms of Appendicitis:**\n",
       "\n",
       "* Sudden and severe pain in the abdomen, often starting near the belly button and then moving to the lower right side\n",
       "* Nausea and vomiting\n",
       "* Loss of appetite\n",
       "* Fever and chills\n",
       "* Abdominal tenderness and guarding (muscle tension)\n",
       "* Abdominal swelling\n",
       "\n",
       "**Treatment of Appendicitis:**\n",
       "\n",
       "* Appendectomy (surgical removal of the inflamed appendix) is the standard treatment for appendicitis\n",
       "\t+ Open appendectomy: an incision is made in the abdomen to manually remove the inflamed appendix\n",
       "\t+ Laparoscopic appendectomy: a laparoscope (thin tube with a camera and light) is inserted through small incisions to visualize the appendix, and then a specialized instrument is used to remove it\n",
       "* Antibiotics may be given before or after surgery to help manage infection\n",
       "\n",
       "It's important to note that while antibiotics can help manage the infection, they cannot cure appendicitis. Therefore, surgical removal of the inflamed appendix is necessary to treat the condition effectively.\n",
       "\n",
       "I hope this helps! Let me know if you have any further questions."
      ],
      "text/plain": [
       "<IPython.core.display.Markdown object>"
      ]
     },
     "metadata": {},
     "output_type": "display_data"
    }
   ],
   "source": [
    "user_input = \"What are the common symptoms for appendicitis, and can it be cured via medicine? If not, what surgical procedure should be followed to treat it?\"\n",
    "response = generate_rag_response(user_input, temperature=0.75)\n",
    "display_markdown_response(response)"
   ]
  },
  {
   "cell_type": "markdown",
   "metadata": {
    "id": "ZBpot7-p6ZPB"
   },
   "source": [
    "**Query 3: What are the effective treatments or solutions for addressing sudden patchy hair loss, commonly seen as localized bald spots on the scalp, and what could be the possible causes behind it?**"
   ]
  },
  {
   "cell_type": "code",
   "execution_count": 360,
   "metadata": {
    "colab": {
     "base_uri": "https://localhost:8080/",
     "height": 671
    },
    "id": "wIDR4vbJboLJ",
    "outputId": "e5c851a8-4d82-495c-bf87-6732ce3d2084"
   },
   "outputs": [
    {
     "name": "stderr",
     "output_type": "stream",
     "text": [
      "Llama.generate: prefix-match hit\n",
      "\n",
      "llama_print_timings:        load time =    1761.86 ms\n",
      "llama_print_timings:      sample time =     329.93 ms /   512 runs   (    0.64 ms per token,  1551.85 tokens per second)\n",
      "llama_print_timings: prompt eval time =    1533.35 ms /  1231 tokens (    1.25 ms per token,   802.82 tokens per second)\n",
      "llama_print_timings:        eval time =   17805.80 ms /   511 runs   (   34.85 ms per token,    28.70 tokens per second)\n",
      "llama_print_timings:       total time =   20268.18 ms /  1742 tokens\n"
     ]
    },
    {
     "data": {
      "text/markdown": [
       "Based on the provided context, here are the effective treatments or solutions for addressing sudden patchy hair loss, commonly seen as localized bald spots on the scalp, and the possible causes behind it:\n",
       "\n",
       "**Effective Treatments for Sudden Patchy Hair Loss:**\n",
       "\n",
       "1. **Medications:**\n",
       "\t* Corticosteroids: These medications can help reduce inflammation and suppress the immune system, which may help prevent further hair loss and promote hair growth.\n",
       "\t* Retinoids: Derivatives of vitamin A, these medications can help slow down hair loss and promote hair growth by increasing cell turnover and reducing scalp inflammation.\n",
       "\t* Immunosuppressants: These medications can help suppress the immune system and prevent it from attacking the hair follicles, which may help reduce hair loss and promote hair growth.\n",
       "2. **Topical Treatments:**\n",
       "\t* Minoxidil (Rogaine): A solution that is applied directly to the scalp, minoxidil can help stimulate hair growth and slow down hair loss.\n",
       "\t* Finasteride (Propecia): A medication that is available in pill form, finasteride can help prevent hair loss by blocking the production of dihydrotestosterone (DHT), a hormone that contributes to hair loss.\n",
       "3. **Surgical Solutions:**\n",
       "\t* Hair transplantation: This procedure involves transplanting healthy hair follicles from one part of the scalp to another, and can help restore hair growth in balding areas.\n",
       "\n",
       "**Possible Causes of Sudden Patchy Hair Loss:**\n",
       "\n",
       "1. **Autoimmune Disorders:**\n",
       "\t* Alopecia areata: An autoimmune disorder that causes sudden patchy hair loss, alopecia areata can affect any hairy area of the body and is thought to be triggered by environmental factors.\n",
       "2. **Hormonal Imbalances:**\n",
       "\t* Androgenetic alopecia (male-pattern and female-pattern hair loss): The most common type of hair loss, androgenetic alopecia is caused by a combination of genetics and hormonal imbalances, particularly an excess of dihydrotestosterone (DHT)."
      ],
      "text/plain": [
       "<IPython.core.display.Markdown object>"
      ]
     },
     "metadata": {},
     "output_type": "display_data"
    }
   ],
   "source": [
    "user_input = \"What are the effective treatments or solutions for addressing sudden patchy hair loss, commonly seen as localized bald spots on the scalp, and what could be the possible causes behind it?\"\n",
    "response = generate_rag_response(user_input, temperature=0.75)\n",
    "display_markdown_response(response)"
   ]
  },
  {
   "cell_type": "markdown",
   "metadata": {
    "id": "BGQB5FNN6fe6"
   },
   "source": [
    "**Query 4: What treatments are recommended for a person who has sustained a physical injury to brain tissue, resulting in temporary or permanent impairment of brain function?**"
   ]
  },
  {
   "cell_type": "code",
   "execution_count": 361,
   "metadata": {
    "colab": {
     "base_uri": "https://localhost:8080/",
     "height": 488
    },
    "id": "57CCkhdpbqm7",
    "outputId": "445463b9-6af7-43c8-f56d-9910b0c57fb6"
   },
   "outputs": [
    {
     "name": "stderr",
     "output_type": "stream",
     "text": [
      "Llama.generate: prefix-match hit\n",
      "\n",
      "llama_print_timings:        load time =    1761.86 ms\n",
      "llama_print_timings:      sample time =     213.49 ms /   327 runs   (    0.65 ms per token,  1531.72 tokens per second)\n",
      "llama_print_timings: prompt eval time =    2395.19 ms /  1898 tokens (    1.26 ms per token,   792.42 tokens per second)\n",
      "llama_print_timings:        eval time =   11738.36 ms /   326 runs   (   36.01 ms per token,    27.77 tokens per second)\n",
      "llama_print_timings:       total time =   14697.81 ms /  2224 tokens\n"
     ]
    },
    {
     "data": {
      "text/markdown": [
       "Sure! Here's the answer to the medical question based on the provided context:\n",
       "\n",
       "**Initial Treatment for Traumatic Brain Injury (TBI)**\n",
       "\n",
       "* Ensure a reliable airway and maintain adequate ventilation, oxygenation, and blood pressure\n",
       "* Manage intracranial pressure and prevent complications such as increased intracranial pressure or herniation\n",
       "* Monitor and treat any contusions, intracerebral or subarachnoid hemorrhage, or epidural or subdural hematomas\n",
       "* Provide appropriate neurological and neurosurgical consultation\n",
       "\n",
       "**Surgical Interventions for TBI**\n",
       "\n",
       "* Place monitors to track and treat intracranial pressure\n",
       "* Decompress the brain if intracranial pressure is increased\n",
       "* Remove intracranial hematomas or blood clots\n",
       "\n",
       "**Other Recommended Treatments for TBI**\n",
       "\n",
       "* Maintaining adequate brain perfusion and oxygenation in the first few days after injury\n",
       "* Preventing complications of altered sensorium\n",
       "* Managing the consequences of concussion, including loss of consciousness or memory\n",
       "* Providing appropriate rehabilitation to address cognitive, motor, and behavioral deficits\n",
       "\n",
       "**Note: The specific treatment plan for TBI will depend on the severity and location of the injury, as well as the individual patient's needs and medical history.**"
      ],
      "text/plain": [
       "<IPython.core.display.Markdown object>"
      ]
     },
     "metadata": {},
     "output_type": "display_data"
    }
   ],
   "source": [
    "user_input = \"What treatments are recommended for a person who has sustained a physical injury to brain tissue, resulting in temporary or permanent impairment of brain function?\"\n",
    "response = generate_rag_response(user_input, temperature=0.75)\n",
    "display_markdown_response(response)"
   ]
  },
  {
   "cell_type": "markdown",
   "metadata": {
    "id": "z-4VkgDA6kzG"
   },
   "source": [
    "**Query 5: What are the necessary precautions and treatment steps for a person who has fractured their leg during a hiking trip, and what should be considered for their care and recovery?**"
   ]
  },
  {
   "cell_type": "code",
   "execution_count": 362,
   "metadata": {
    "colab": {
     "base_uri": "https://localhost:8080/",
     "height": 534
    },
    "id": "umd0saz9btD3",
    "outputId": "e973375d-8708-4ae0-f432-7a88c663dcb0"
   },
   "outputs": [
    {
     "name": "stderr",
     "output_type": "stream",
     "text": [
      "Llama.generate: prefix-match hit\n",
      "\n",
      "llama_print_timings:        load time =    1761.86 ms\n",
      "llama_print_timings:      sample time =     251.66 ms /   389 runs   (    0.65 ms per token,  1545.72 tokens per second)\n",
      "llama_print_timings: prompt eval time =     839.09 ms /   578 tokens (    1.45 ms per token,   688.84 tokens per second)\n",
      "llama_print_timings:        eval time =   13041.76 ms /   388 runs   (   33.61 ms per token,    29.75 tokens per second)\n",
      "llama_print_timings:       total time =   14514.08 ms /   966 tokens\n"
     ]
    },
    {
     "data": {
      "text/markdown": [
       "**Splinting and Immobilization**\n",
       "\n",
       "* Suspected open fractures require sterile wound dressings, tetanus prophylaxis, and broad-spectrum antibiotics (e.g., a 2nd-generation cephalosporin plus an aminoglycoside)\n",
       "* Non-displaced closed fractures can be treated with immobilization using a splint or cast\n",
       "\n",
       "**Wound Care and Infection Prevention**\n",
       "\n",
       "* Keep the wound clean and dry to prevent infection\n",
       "* Change dressings daily or as often as recommended by a healthcare professional\n",
       "* Monitor for signs of infection, such as redness, swelling, or increased pain\n",
       "\n",
       "**Pain Management**\n",
       "\n",
       "* Use nonsteroidal anti-inflammatory drugs (NSAIDs) and opioids as needed to manage pain\n",
       "* Consider using a cane for ambulation to reduce weight-bearing on the affected leg\n",
       "\n",
       "**Rehabilitation and Recovery**\n",
       "\n",
       "* Follow a rehabilitation plan that includes physical therapy and exercises to restore strength, flexibility, and range of motion in the affected limb\n",
       "* Consider using a brace or orthosis to support the affected limb during recovery\n",
       "* Monitor progress and adjust the rehabilitation plan as needed to ensure proper healing and minimize complications\n",
       "\n",
       "**Considerations for Care and Recovery**\n",
       "\n",
       "* Provide adequate rest and avoid overexertion during the recovery period\n",
       "* Monitor for signs of complications, such as infection, nerve damage, or poor wound healing\n",
       "* Follow up with a healthcare professional regularly to ensure proper healing and address any concerns or complications that arise."
      ],
      "text/plain": [
       "<IPython.core.display.Markdown object>"
      ]
     },
     "metadata": {},
     "output_type": "display_data"
    }
   ],
   "source": [
    "user_input = \"What are the necessary precautions and treatment steps for a person who has fractured their leg during a hiking trip, and what should be considered for their care and recovery?\"\n",
    "response = generate_rag_response(user_input, temperature=0.75)\n",
    "display_markdown_response(response)"
   ]
  },
  {
   "cell_type": "markdown",
   "metadata": {
    "id": "yyQrTipNfuBN"
   },
   "source": [
    "## Output Evaluation"
   ]
  },
  {
   "cell_type": "markdown",
   "metadata": {
    "id": "flvWqMav7Rbn"
   },
   "source": [
    "Let us now use the LLM-as-a-judge method to check the quality of the RAG system on two parameters - retrieval and generation.\n",
    "\n",
    "We are using the same Mistral model for evaluation, so basically here the llm is rating itself on how well he has performed in the task."
   ]
  },
  {
   "cell_type": "code",
   "execution_count": 363,
   "metadata": {
    "id": "IHbfLAxAGdhW"
   },
   "outputs": [],
   "source": [
    "groundedness_rater_system_message = \"\"\"You are a medical quality evaluator. You are given a context, a question, and an answer.\n",
    "\n",
    "Your task is to evaluate whether the answer is **well grounded** in the context:\n",
    "- The answer should only include facts supported by the context.\n",
    "- It should not hallucinate or invent facts not present in the context.\n",
    "\n",
    "Rate the groundedness as one of the following:\n",
    "- HIGH: Answer is fully supported by the context\n",
    "- MEDIUM: Some minor content is unsupported but most is grounded\n",
    "- LOW: Many details are not supported or are fabricated\n",
    "\"\"\""
   ]
  },
  {
   "cell_type": "code",
   "execution_count": 364,
   "metadata": {
    "id": "159OZZa0Rinv"
   },
   "outputs": [],
   "source": [
    "relevance_rater_system_message = \"\"\"You are a medical quality evaluator. You are given a context, a question, and an answer.\n",
    "\n",
    "Your task is to evaluate how **relevant** the answer is to the question:\n",
    "- Does it directly address what was asked?\n",
    "- Does it stay focused or go off-topic?\n",
    "\n",
    "Rate the relevance as one of the following:\n",
    "- HIGH: Directly and fully answers the question\n",
    "- MEDIUM: Partially answers, with some unrelated or missing info\n",
    "- LOW: Mostly irrelevant or off-topic\n",
    "\"\"\""
   ]
  },
  {
   "cell_type": "code",
   "execution_count": 365,
   "metadata": {
    "id": "RLqiSn-iRwSl"
   },
   "outputs": [],
   "source": [
    "user_message_template = \"\"\"Context:\n",
    "{context}\n",
    "\n",
    "Question:\n",
    "{question}\n",
    "\n",
    "Answer:\n",
    "{answer}\n",
    "\n",
    "Rate the answer based on the above context and instructions.\n",
    "\"\"\""
   ]
  },
  {
   "cell_type": "code",
   "execution_count": 366,
   "metadata": {
    "id": "XIbZybyuRi2p"
   },
   "outputs": [],
   "source": [
    "def generate_ground_relevance_response(user_input,k=2,max_tokens=512,temperature=0,top_p=0.95,top_k=50):\n",
    "    global qna_system_message,qna_user_message_template\n",
    "    # Retrieve relevant document chunks\n",
    "    relevant_document_chunks = retriever.get_relevant_documents(query=user_input,k=3)\n",
    "    context_list = [d.page_content for d in relevant_document_chunks]\n",
    "    context_for_query = \". \".join(context_list)\n",
    "\n",
    "    # Combine user_prompt and system_message to create the prompt\n",
    "    prompt = f\"\"\"[INST]{qna_system_message}\\n\n",
    "                {'user'}: {qna_user_message_template.format(context=context_for_query, question=user_input)}\n",
    "                [/INST]\"\"\"\n",
    "\n",
    "    #llm.reset()\n",
    "    response = llm(\n",
    "            prompt=prompt,\n",
    "            max_tokens=max_tokens,\n",
    "            temperature=temperature,\n",
    "            top_p=top_p,\n",
    "            top_k=top_k,\n",
    "            stop=['INST'],\n",
    "            echo=False\n",
    "            )\n",
    "\n",
    "    answer =  response[\"choices\"][0][\"text\"]\n",
    "\n",
    "    # Combine user_prompt and system_message to create the prompt\n",
    "    groundedness_prompt = f\"\"\"[INST]{groundedness_rater_system_message}\\n\n",
    "                {'user'}: {user_message_template.format(context=context_for_query, question=user_input, answer=answer)}\n",
    "                [/INST]\"\"\"\n",
    "\n",
    "    # Combine user_prompt and system_message to create the prompt\n",
    "    relevance_prompt = f\"\"\"[INST]{relevance_rater_system_message}\\n\n",
    "                {'user'}: {user_message_template.format(context=context_for_query, question=user_input, answer=answer)}\n",
    "                [/INST]\"\"\"\n",
    "\n",
    "    #llm_reset()\n",
    "    response_1 = llm(\n",
    "            prompt=groundedness_prompt,\n",
    "            max_tokens=200,\n",
    "            temperature=temperature,\n",
    "            top_p=top_p,\n",
    "            top_k=top_k,\n",
    "            stop=['INST'],\n",
    "            echo=False\n",
    "            )\n",
    "\n",
    "    #llm_reset()\n",
    "    response_2 = llm(\n",
    "            prompt=relevance_prompt,\n",
    "            max_tokens=200,\n",
    "            temperature=temperature,\n",
    "            top_p=top_p,\n",
    "            top_k=top_k,\n",
    "            stop=['INST'],\n",
    "            echo=False\n",
    "            )\n",
    "\n",
    "    return response_1['choices'][0]['text'],response_2['choices'][0]['text']"
   ]
  },
  {
   "cell_type": "code",
   "execution_count": 367,
   "metadata": {
    "id": "2P11ROpRt_2n"
   },
   "outputs": [],
   "source": [
    "from IPython.display import Markdown, display\n",
    "\n",
    "def display_rag_evaluation(ground_text, rel_text):\n",
    "    def extract_score_and_reason(text):\n",
    "        lines = text.strip().split(\"\\n\")\n",
    "        score_line = next((line for line in lines if \"rate\" in line.lower() and (\"high\" in line.lower() or \"medium\" in line.lower() or \"low\" in line.lower())), \"\")\n",
    "        score = \"HIGH\" if \"high\" in score_line.lower() else \"MEDIUM\" if \"medium\" in score_line.lower() else \"LOW\"\n",
    "        return score.upper(), text.strip()\n",
    "\n",
    "    grounded_score, grounded_reason = extract_score_and_reason(ground_text)\n",
    "    relevance_score, relevance_reason = extract_score_and_reason(rel_text)\n",
    "\n",
    "    display(Markdown(f\"\"\"\n",
    "### RAG Evaluation Results\n",
    "\n",
    "** Groundedness:** `{grounded_score}`\n",
    "{grounded_reason}\n",
    "\n",
    "---\n",
    "\n",
    "** Relevance:** `{relevance_score}`\n",
    "{relevance_reason}\n",
    "\"\"\"))\n"
   ]
  },
  {
   "cell_type": "markdown",
   "metadata": {
    "id": "V4nczIqicI6N"
   },
   "source": [
    "**Query 1: What is the protocol for managing sepsis in a critical care unit?**"
   ]
  },
  {
   "cell_type": "code",
   "execution_count": 368,
   "metadata": {
    "colab": {
     "base_uri": "https://localhost:8080/",
     "height": 637
    },
    "id": "LZcofOTPcEtp",
    "outputId": "c59a622a-49c3-4819-c036-008d40e1a114"
   },
   "outputs": [
    {
     "name": "stderr",
     "output_type": "stream",
     "text": [
      "Llama.generate: prefix-match hit\n",
      "\n",
      "llama_print_timings:        load time =    1761.86 ms\n",
      "llama_print_timings:      sample time =     337.37 ms /   512 runs   (    0.66 ms per token,  1517.61 tokens per second)\n",
      "llama_print_timings: prompt eval time =    2250.97 ms /  1874 tokens (    1.20 ms per token,   832.53 tokens per second)\n",
      "llama_print_timings:        eval time =   18540.43 ms /   511 runs   (   36.28 ms per token,    27.56 tokens per second)\n",
      "llama_print_timings:       total time =   21754.99 ms /  2385 tokens\n",
      "Llama.generate: prefix-match hit\n",
      "\n",
      "llama_print_timings:        load time =    1761.86 ms\n",
      "llama_print_timings:      sample time =      72.92 ms /   115 runs   (    0.63 ms per token,  1577.18 tokens per second)\n",
      "llama_print_timings: prompt eval time =    2878.52 ms /  2408 tokens (    1.20 ms per token,   836.54 tokens per second)\n",
      "llama_print_timings:        eval time =    4073.34 ms /   114 runs   (   35.73 ms per token,    27.99 tokens per second)\n",
      "llama_print_timings:       total time =    7127.42 ms /  2522 tokens\n",
      "Llama.generate: prefix-match hit\n",
      "\n",
      "llama_print_timings:        load time =    1761.86 ms\n",
      "llama_print_timings:      sample time =      91.96 ms /   144 runs   (    0.64 ms per token,  1565.90 tokens per second)\n",
      "llama_print_timings: prompt eval time =    3429.98 ms /  2372 tokens (    1.45 ms per token,   691.55 tokens per second)\n",
      "llama_print_timings:        eval time =    5100.86 ms /   143 runs   (   35.67 ms per token,    28.03 tokens per second)\n",
      "llama_print_timings:       total time =    8751.96 ms /  2515 tokens\n"
     ]
    },
    {
     "data": {
      "text/markdown": [
       "\n",
       "### RAG Evaluation Results\n",
       "\n",
       "** Groundedness:** `HIGH`  \n",
       "Based on the provided context and instructions, I would rate the answer as HIGH in terms of groundedness. The answer provides specific and detailed information about the protocol for managing sepsis in a critical care unit, which is fully supported by the context. The answer does not hallucinate or invent facts not present in the context, and it accurately summarizes the key points from the provided text. Overall, the answer is well-grounded and provides a comprehensive overview of the sepsis management protocol in critical care units.\n",
       "\n",
       "---\n",
       "\n",
       "** Relevance:** `HIGH`  \n",
       "Based on the context and instructions, I would rate the answer as HIGH in relevance. The answer directly addresses the question by providing a detailed protocol for managing sepsis in a critical care unit, including monitoring and testing, fluid resuscitation, vasoactive medications, oxygen therapy, and supportive care. The answer is well-structured and includes specific examples and references to the Merck Manual of Diagnosis & Therapy, 19th Edition, which adds credibility to the information provided. Overall, the answer fully addresses the question and provides a comprehensive overview of the protocol for managing sepsis in a critical care unit.\n"
      ],
      "text/plain": [
       "<IPython.core.display.Markdown object>"
      ]
     },
     "metadata": {},
     "output_type": "display_data"
    }
   ],
   "source": [
    "ground,rel = generate_ground_relevance_response(user_input=\"What is the protocol for managing sepsis in a critical care unit?\")\n",
    "display_rag_evaluation(ground, rel)"
   ]
  },
  {
   "cell_type": "markdown",
   "metadata": {
    "id": "R5GQJq66cVH6"
   },
   "source": [
    "**Query 2: What are the common symptoms for appendicitis, and can it be cured via medicine? If not, what surgical procedure should be followed to treat it?**"
   ]
  },
  {
   "cell_type": "code",
   "execution_count": 369,
   "metadata": {
    "colab": {
     "base_uri": "https://localhost:8080/",
     "height": 649
    },
    "id": "vZ9Ua3tCcF0V",
    "outputId": "067cee7f-1dc0-4a5d-e1d4-61ade50d9b37"
   },
   "outputs": [
    {
     "name": "stderr",
     "output_type": "stream",
     "text": [
      "Llama.generate: prefix-match hit\n",
      "\n",
      "llama_print_timings:        load time =    1761.86 ms\n",
      "llama_print_timings:      sample time =     284.75 ms /   441 runs   (    0.65 ms per token,  1548.72 tokens per second)\n",
      "llama_print_timings: prompt eval time =    2626.94 ms /  2066 tokens (    1.27 ms per token,   786.47 tokens per second)\n",
      "llama_print_timings:        eval time =   15923.49 ms /   440 runs   (   36.19 ms per token,    27.63 tokens per second)\n",
      "llama_print_timings:       total time =   19335.21 ms /  2506 tokens\n",
      "Llama.generate: prefix-match hit\n",
      "\n",
      "llama_print_timings:        load time =    1761.86 ms\n",
      "llama_print_timings:      sample time =      90.42 ms /   145 runs   (    0.62 ms per token,  1603.57 tokens per second)\n",
      "llama_print_timings: prompt eval time =    2989.71 ms /  2531 tokens (    1.18 ms per token,   846.57 tokens per second)\n",
      "llama_print_timings:        eval time =    5164.05 ms /   144 runs   (   35.86 ms per token,    27.89 tokens per second)\n",
      "llama_print_timings:       total time =    8378.64 ms /  2675 tokens\n",
      "Llama.generate: prefix-match hit\n",
      "\n",
      "llama_print_timings:        load time =    1761.86 ms\n",
      "llama_print_timings:      sample time =      81.59 ms /   131 runs   (    0.62 ms per token,  1605.67 tokens per second)\n",
      "llama_print_timings: prompt eval time =    3359.57 ms /  2495 tokens (    1.35 ms per token,   742.65 tokens per second)\n",
      "llama_print_timings:        eval time =    4684.81 ms /   130 runs   (   36.04 ms per token,    27.75 tokens per second)\n",
      "llama_print_timings:       total time =    8245.45 ms /  2625 tokens\n"
     ]
    },
    {
     "data": {
      "text/markdown": [
       "\n",
       "### RAG Evaluation Results\n",
       "\n",
       "** Groundedness:** `HIGH`  \n",
       "Based on the provided context and instructions, I would rate the answer as HIGH in terms of groundedness. The answer provides a clear and accurate summary of the symptoms and treatment options for appendicitis, including the surgical procedures that can be used to treat the condition.\n",
       "\n",
       "The answer is well-supported by the context, which provides detailed information about the diagnosis and treatment of appendicitis. The answer does not hallucinate or invent facts not present in the context, and it does not contain any major content that is unsupported or fabricated.\n",
       "\n",
       "Overall, the answer demonstrates a high level of groundedness and is well-supported by the provided context.\n",
       "\n",
       "---\n",
       "\n",
       "** Relevance:** `HIGH`  \n",
       "Based on the provided context and instructions, I would rate the answer as HIGH in relevance. The answer directly addresses the question by providing a detailed description of the symptoms of appendicitis and the surgical procedures used to treat the condition. The information is accurate and comprehensive, covering both laparoscopic and open appendectomy options. The answer also mentions the use of antibiotics in cases where surgery is not possible, which is relevant to the question. Overall, the answer is well-structured and easy to follow, making it a high-relevance response to the question.\n"
      ],
      "text/plain": [
       "<IPython.core.display.Markdown object>"
      ]
     },
     "metadata": {},
     "output_type": "display_data"
    }
   ],
   "source": [
    "ground,rel = generate_ground_relevance_response(user_input=\"What are the common symptoms for appendicitis, and can it be cured via medicine? If not, what surgical procedure should be followed to treat it?\")\n",
    "display_rag_evaluation(ground, rel)"
   ]
  },
  {
   "cell_type": "markdown",
   "metadata": {
    "id": "jWRyVZoQceeT"
   },
   "source": [
    "**Query 3: What are the effective treatments or solutions for addressing sudden patchy hair loss, commonly seen as localized bald spots on the scalp, and what could be the possible causes behind it?**"
   ]
  },
  {
   "cell_type": "code",
   "execution_count": 370,
   "metadata": {
    "colab": {
     "base_uri": "https://localhost:8080/",
     "height": 719
    },
    "id": "VCM7QrHDciNk",
    "outputId": "fd3a60a3-b34c-41c6-c3ba-3775ac699bce"
   },
   "outputs": [
    {
     "name": "stderr",
     "output_type": "stream",
     "text": [
      "Llama.generate: prefix-match hit\n",
      "\n",
      "llama_print_timings:        load time =    1761.86 ms\n",
      "llama_print_timings:      sample time =     231.80 ms /   370 runs   (    0.63 ms per token,  1596.18 tokens per second)\n",
      "llama_print_timings: prompt eval time =    1582.24 ms /  1324 tokens (    1.20 ms per token,   836.79 tokens per second)\n",
      "llama_print_timings:        eval time =   12863.31 ms /   369 runs   (   34.86 ms per token,    28.69 tokens per second)\n",
      "llama_print_timings:       total time =   15042.53 ms /  1693 tokens\n",
      "Llama.generate: prefix-match hit\n",
      "\n",
      "llama_print_timings:        load time =    1761.86 ms\n",
      "llama_print_timings:      sample time =     105.40 ms /   160 runs   (    0.66 ms per token,  1518.01 tokens per second)\n",
      "llama_print_timings: prompt eval time =    2093.23 ms /  1719 tokens (    1.22 ms per token,   821.22 tokens per second)\n",
      "llama_print_timings:        eval time =    5722.57 ms /   159 runs   (   35.99 ms per token,    27.78 tokens per second)\n",
      "llama_print_timings:       total time =    8066.70 ms /  1878 tokens\n",
      "Llama.generate: prefix-match hit\n",
      "\n",
      "llama_print_timings:        load time =    1761.86 ms\n",
      "llama_print_timings:      sample time =     125.96 ms /   200 runs   (    0.63 ms per token,  1587.84 tokens per second)\n",
      "llama_print_timings: prompt eval time =    2105.21 ms /  1683 tokens (    1.25 ms per token,   799.45 tokens per second)\n",
      "llama_print_timings:        eval time =    7042.45 ms /   199 runs   (   35.39 ms per token,    28.26 tokens per second)\n",
      "llama_print_timings:       total time =    9457.61 ms /  1882 tokens\n"
     ]
    },
    {
     "data": {
      "text/markdown": [
       "\n",
       "### RAG Evaluation Results\n",
       "\n",
       "** Groundedness:** `MEDIUM`  \n",
       "Based on the provided context and instructions, I would rate the answer as MEDIUM. The answer provides some information that is supported by the context, such as the possible causes of sudden patchy hair loss (Alopecia Areata) and effective treatments for addressing it. However, the answer also includes some information that is not fully supported by the context, such as the mention of hormonal imbalance as a possible cause of Androgenetic Alopecia, which is not explicitly stated in the provided text. Additionally, the answer could benefit from more specific examples or references to support the listed treatments and causes. Overall, while the answer shows some understanding of the topic, it could be improved with more careful attention to detail and supporting evidence.\n",
       "\n",
       "---\n",
       "\n",
       "** Relevance:** `MEDIUM`  \n",
       "Based on the provided context and instructions, I would rate the answer as MEDIUM. The answer partially addresses the question by providing information on effective treatments and possible causes of sudden patchy hair loss (alopecia areata), androgenetic alopecia (male-pattern and female-pattern hair loss), and hair loss due to chemotherapy. However, the answer goes off-topic by mentioning hormonal imbalance and genetic predisposition as possible causes of hair loss, which are not directly related to the question.\n",
       "\n",
       "Here's a breakdown of the relevance rating:\n",
       "\n",
       "* High relevance: The answer provides information on effective treatments for alopecia areata and androgenetic alopecia, which are directly related to the question.\n",
       "* Medium relevance: The answer mentions possible causes of hair loss, such as hormonal imbalance and genetic predisposition, but these\n"
      ],
      "text/plain": [
       "<IPython.core.display.Markdown object>"
      ]
     },
     "metadata": {},
     "output_type": "display_data"
    }
   ],
   "source": [
    "ground,rel = generate_ground_relevance_response(user_input=\"What are the effective treatments or solutions for addressing sudden patchy hair loss, commonly seen as localized bald spots on the scalp, and what could be the possible causes behind it?\",max_tokens=370)\n",
    "display_rag_evaluation(ground, rel)"
   ]
  },
  {
   "cell_type": "markdown",
   "metadata": {
    "id": "UUmzkNwlcm_R"
   },
   "source": [
    "**Query 4: What treatments are recommended for a person who has sustained a physical injury to brain tissue, resulting in temporary or permanent impairment of brain function?**"
   ]
  },
  {
   "cell_type": "code",
   "execution_count": 371,
   "metadata": {
    "colab": {
     "base_uri": "https://localhost:8080/",
     "height": 655
    },
    "id": "bvMUS_NkcqCQ",
    "outputId": "9b4f29a9-df54-43b3-c90c-4692ec8a5b65"
   },
   "outputs": [
    {
     "name": "stderr",
     "output_type": "stream",
     "text": [
      "Llama.generate: prefix-match hit\n",
      "\n",
      "llama_print_timings:        load time =    1761.86 ms\n",
      "llama_print_timings:      sample time =     195.92 ms /   307 runs   (    0.64 ms per token,  1566.96 tokens per second)\n",
      "llama_print_timings: prompt eval time =    2352.84 ms /  1991 tokens (    1.18 ms per token,   846.21 tokens per second)\n",
      "llama_print_timings:        eval time =   10941.26 ms /   306 runs   (   35.76 ms per token,    27.97 tokens per second)\n",
      "llama_print_timings:       total time =   13805.18 ms /  2297 tokens\n",
      "Llama.generate: prefix-match hit\n",
      "\n",
      "llama_print_timings:        load time =    1761.86 ms\n",
      "llama_print_timings:      sample time =     111.94 ms /   175 runs   (    0.64 ms per token,  1563.32 tokens per second)\n",
      "llama_print_timings: prompt eval time =    2815.00 ms /  2322 tokens (    1.21 ms per token,   824.87 tokens per second)\n",
      "llama_print_timings:        eval time =    6354.22 ms /   174 runs   (   36.52 ms per token,    27.38 tokens per second)\n",
      "llama_print_timings:       total time =    9447.88 ms /  2496 tokens\n",
      "Llama.generate: prefix-match hit\n",
      "\n",
      "llama_print_timings:        load time =    1761.86 ms\n",
      "llama_print_timings:      sample time =      68.26 ms /   109 runs   (    0.63 ms per token,  1596.86 tokens per second)\n",
      "llama_print_timings: prompt eval time =    2840.99 ms /  2286 tokens (    1.24 ms per token,   804.65 tokens per second)\n",
      "llama_print_timings:        eval time =    3834.62 ms /   108 runs   (   35.51 ms per token,    28.16 tokens per second)\n",
      "llama_print_timings:       total time =    6839.39 ms /  2394 tokens\n"
     ]
    },
    {
     "data": {
      "text/markdown": [
       "\n",
       "### RAG Evaluation Results\n",
       "\n",
       "** Groundedness:** `HIGH`  \n",
       "Based on the provided context and instructions, I would rate the answer as HIGH in terms of groundedness. The answer provides a comprehensive list of treatments for traumatic brain injury (TBI) that are supported by the content of the provided chapter. The answer includes specific details such as ensuring a reliable airway, maintaining adequate ventilation and oxygenation, and surgery to place monitors or remove hematomas, which are all directly related to the management of TBI as described in the context. Additionally, the answer mentions rehabilitation, management of complications, and medications to control symptoms, which are also consistent with the content of the chapter. Overall, the answer is well-supported by the provided context and does not hallucinate or invent facts not present in the context.\n",
       "\n",
       "---\n",
       "\n",
       "** Relevance:** `HIGH`  \n",
       "Based on the provided context and instructions, I would rate the answer as HIGH in relevance. The answer directly addresses the question by providing a comprehensive list of treatments recommended for a person who has sustained a physical injury to brain tissue, resulting in temporary or permanent impairment of brain function. The answer is well-structured and includes specific details about the initial treatment, early management, and subsequent treatment options. Overall, the answer fully addresses the question and provides accurate information based on the provided context.\n"
      ],
      "text/plain": [
       "<IPython.core.display.Markdown object>"
      ]
     },
     "metadata": {},
     "output_type": "display_data"
    }
   ],
   "source": [
    "ground,rel = generate_ground_relevance_response(user_input=\"What treatments are recommended for a person who has sustained a physical injury to brain tissue, resulting in temporary or permanent impairment of brain function?\")\n",
    "display_rag_evaluation(ground, rel)"
   ]
  },
  {
   "cell_type": "markdown",
   "metadata": {
    "id": "4jeVSX_vctSZ"
   },
   "source": [
    "**Query 5: What are the necessary precautions and treatment steps for a person who has fractured their leg during a hiking trip, and what should be considered for their care and recovery?**"
   ]
  },
  {
   "cell_type": "code",
   "execution_count": 372,
   "metadata": {
    "colab": {
     "base_uri": "https://localhost:8080/",
     "height": 701
    },
    "id": "hVeR1syYcwdR",
    "outputId": "179ea1e3-ab45-4791-a552-0089e622044a"
   },
   "outputs": [
    {
     "name": "stderr",
     "output_type": "stream",
     "text": [
      "Llama.generate: prefix-match hit\n",
      "\n",
      "llama_print_timings:        load time =    1761.86 ms\n",
      "llama_print_timings:      sample time =     200.33 ms /   312 runs   (    0.64 ms per token,  1557.43 tokens per second)\n",
      "llama_print_timings: prompt eval time =     904.80 ms /   671 tokens (    1.35 ms per token,   741.60 tokens per second)\n",
      "llama_print_timings:        eval time =   10459.48 ms /   311 runs   (   33.63 ms per token,    29.73 tokens per second)\n",
      "llama_print_timings:       total time =   11840.67 ms /   982 tokens\n",
      "Llama.generate: prefix-match hit\n",
      "\n",
      "llama_print_timings:        load time =    1761.86 ms\n",
      "llama_print_timings:      sample time =     134.45 ms /   200 runs   (    0.67 ms per token,  1487.58 tokens per second)\n",
      "llama_print_timings: prompt eval time =    1159.34 ms /  1007 tokens (    1.15 ms per token,   868.60 tokens per second)\n",
      "llama_print_timings:        eval time =    6818.78 ms /   199 runs   (   34.27 ms per token,    29.18 tokens per second)\n",
      "llama_print_timings:       total time =    8280.62 ms /  1206 tokens\n",
      "Llama.generate: prefix-match hit\n",
      "\n",
      "llama_print_timings:        load time =    1761.86 ms\n",
      "llama_print_timings:      sample time =     118.54 ms /   186 runs   (    0.64 ms per token,  1569.10 tokens per second)\n",
      "llama_print_timings: prompt eval time =    1151.57 ms /   971 tokens (    1.19 ms per token,   843.20 tokens per second)\n",
      "llama_print_timings:        eval time =    6159.48 ms /   185 runs   (   33.29 ms per token,    30.04 tokens per second)\n",
      "llama_print_timings:       total time =    7577.66 ms /  1156 tokens\n"
     ]
    },
    {
     "data": {
      "text/markdown": [
       "\n",
       "### RAG Evaluation Results\n",
       "\n",
       "** Groundedness:** `HIGH`  \n",
       "Based on the provided context and instructions, I would rate the answer as HIGH in terms of groundedness. The answer provides a comprehensive list of necessary precautions and treatment steps for a person who has fractured their leg during a hiking trip, and all of the information is supported by the context.\n",
       "\n",
       "The answer includes details such as the use of sterile wound dressings, tetanus prophylaxis, broad-spectrum antibiotics, immobilization with a splint or cast, pain management with analgesics, rest, and avoidance of strenuous activities to allow the fracture to heal. All of these details are directly supported by the context, which emphasizes the importance of sterile wound dressings, tetanus prophylaxis, and broad-spectrum antibiotics for suspected open fractures, as well as the use of a cane for amb\n",
       "\n",
       "---\n",
       "\n",
       "** Relevance:** `HIGH`  \n",
       "Based on the given context and instructions, I would rate the answer as HIGH in relevance. The answer directly addresses the question by providing necessary precautions and treatment steps for a person who has fractured their leg during a hiking trip, including splinting and immobilization, tetanus prophylaxis, broad-spectrum antibiotics, pain management, rest, and rehabilitation. The answer also mentions the use of a cane for ambulation, which is relevant to the question.\n",
       "\n",
       "The answer stays focused on the topic and does not go off-topic or include unrelated information. It provides a clear and concise summary of the necessary precautions and treatment steps for a person with a fractured leg, which is directly related to the question asked. Therefore, I would rate the answer as HIGH in relevance.\n"
      ],
      "text/plain": [
       "<IPython.core.display.Markdown object>"
      ]
     },
     "metadata": {},
     "output_type": "display_data"
    }
   ],
   "source": [
    "ground,rel = generate_ground_relevance_response(user_input=\"What are the necessary precautions and treatment steps for a person who has fractured their leg during a hiking trip, and what should be considered for their care and recovery?\",max_tokens=370)\n",
    "display_rag_evaluation(ground, rel)"
   ]
  },
  {
   "cell_type": "markdown",
   "metadata": {
    "id": "Y7QICRU-njdj"
   },
   "source": [
    "## Actionable Insights and Business Recommendations"
   ]
  },
  {
   "cell_type": "markdown",
   "metadata": {
    "id": "wdqSh83c5kQi"
   },
   "source": [
    "**LLMs Can Definitely Help with Clinical Questions**\n",
    "When you guide the model with healthcare-specific prompts, it does a much better job — answers are clearer, more accurate, and more useful.\n",
    "\n",
    "**Prompting Makes a Big Difference**\n",
    "Telling the model exactly how to structure its answers (like using bullet points or medical terms) really helps it respond in a way that feels more polished and helpful.\n",
    "\n",
    "**Decent Performance on Common Medical Topics**\n",
    "For well-known conditions, the model’s answers lined up pretty well with standard medical practices — good enough for patient education or quick references.\n",
    "\n",
    "**Generic Models Give Generic Answers**\n",
    "If you don’t give them the right context, models like LLaMA tend to be vague. They don’t really handle specific or complex clinical questions on their own.\n",
    "\n",
    "**Good Prompts Help — But Only to a Point**\n",
    "Crafting smart prompts improves things a lot, but without adding real context (like actual medical text), there’s still a limit to how specific the answers can get.\n",
    "\n",
    "**RAG Changes the Game**\n",
    "Using Retrieval-Augmented Generation (RAG) — where the model pulls from actual documents like PDFs or manuals — makes the answers way more accurate and grounded in real info.\n",
    "\n",
    "**Ready to Be Put to Work**\n",
    "This setup is already a strong starting point for building a specialized assistant. It could be used for helping patients, training staff, or even answering internal questions."
   ]
  },
  {
   "cell_type": "markdown",
   "metadata": {
    "id": "ybRlzaIhWaM9"
   },
   "source": [
    "<font size=6 color='blue'>Power Ahead</font>\n",
    "___"
   ]
  }
 ],
 "metadata": {
  "accelerator": "GPU",
  "colab": {
   "gpuType": "A100",
   "provenance": []
  },
  "kernel_info": {
   "name": "python310-sdkv2"
  },
  "kernelspec": {
   "display_name": "Python 3 (ipykernel)",
   "language": "python",
   "name": "python3"
  },
  "language_info": {
   "codemirror_mode": {
    "name": "ipython",
    "version": 3
   },
   "file_extension": ".py",
   "mimetype": "text/x-python",
   "name": "python",
   "nbconvert_exporter": "python",
   "pygments_lexer": "ipython3",
   "version": "3.11.10"
  },
  "microsoft": {
   "host": {
    "AzureML": {
     "notebookHasBeenCompleted": true
    }
   },
   "ms_spell_check": {
    "ms_spell_check_language": "en"
   }
  },
  "nteract": {
   "version": "nteract-front-end@1.0.0"
  }
 },
 "nbformat": 4,
 "nbformat_minor": 4
}
